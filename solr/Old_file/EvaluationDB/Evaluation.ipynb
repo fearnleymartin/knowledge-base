{
 "cells": [
  {
   "cell_type": "markdown",
   "metadata": {},
   "source": [
    "# DB evaluation "
   ]
  },
  {
   "cell_type": "code",
   "execution_count": 2,
   "metadata": {
    "collapsed": false
   },
   "outputs": [
    {
     "data": {
      "text/html": [
       "<script>requirejs.config({paths: { 'plotly': ['https://cdn.plot.ly/plotly-latest.min']},});if(!window.Plotly) {{require(['plotly'],function(plotly) {window.Plotly=plotly;});}}</script>"
      ],
      "text/vnd.plotly.v1+html": [
       "<script>requirejs.config({paths: { 'plotly': ['https://cdn.plot.ly/plotly-latest.min']},});if(!window.Plotly) {{require(['plotly'],function(plotly) {window.Plotly=plotly;});}}</script>"
      ]
     },
     "metadata": {},
     "output_type": "display_data"
    }
   ],
   "source": [
    "import pandas as pd\n",
    "import json\n",
    "import os\n",
    "import time\n",
    "import itertools\n",
    "import sys\n",
    "import numpy as np\n",
    "import tensorflow as tf\n",
    "import pandas as pd\n",
    "import matplotlib.pyplot as plt\n",
    "from plotly import __version__\n",
    "from plotly.offline import download_plotlyjs, init_notebook_mode, plot, iplot\n",
    "init_notebook_mode(connected=True)\n",
    "from plotly.graph_objs import *\n",
    "import os\n",
    "from plotly import figure_factory as ff"
   ]
  },
  {
   "cell_type": "code",
   "execution_count": 3,
   "metadata": {
    "collapsed": false
   },
   "outputs": [
    {
     "name": "stdout",
     "output_type": "stream",
     "text": [
      "3.6.0 |Anaconda 4.3.1 (x86_64)| (default, Dec 23 2016, 13:19:00) \n",
      "[GCC 4.2.1 Compatible Apple LLVM 6.0 (clang-600.0.57)]\n",
      "0.19.2\n"
     ]
    }
   ],
   "source": [
    "import sys\n",
    "print (sys.version)\n",
    "print(pd.__version__)"
   ]
  },
  {
   "cell_type": "markdown",
   "metadata": {},
   "source": [
    "## Some statistics "
   ]
  },
  {
   "cell_type": "code",
   "execution_count": 4,
   "metadata": {
    "collapsed": false
   },
   "outputs": [
    {
     "ename": "ValueError",
     "evalue": "Expected object or value",
     "output_type": "error",
     "traceback": [
      "\u001b[0;31m---------------------------------------------------------------------------\u001b[0m",
      "\u001b[0;31mValueError\u001b[0m                                Traceback (most recent call last)",
      "\u001b[0;32m<ipython-input-4-d1e325d99905>\u001b[0m in \u001b[0;36m<module>\u001b[0;34m()\u001b[0m\n\u001b[0;32m----> 1\u001b[0;31m \u001b[0mdf\u001b[0m \u001b[0;34m=\u001b[0m \u001b[0mpd\u001b[0m\u001b[0;34m.\u001b[0m\u001b[0mread_json\u001b[0m\u001b[0;34m(\u001b[0m\u001b[0;34m'duplicates_and_original_questions.json'\u001b[0m\u001b[0;34m,\u001b[0m\u001b[0morient\u001b[0m\u001b[0;34m=\u001b[0m \u001b[0;34m'records'\u001b[0m\u001b[0;34m,\u001b[0m\u001b[0mnumpy\u001b[0m \u001b[0;34m=\u001b[0m \u001b[0;32mFalse\u001b[0m\u001b[0;34m,\u001b[0m\u001b[0mdtype\u001b[0m \u001b[0;34m=\u001b[0m \u001b[0;32mTrue\u001b[0m\u001b[0;34m,\u001b[0m\u001b[0mlines\u001b[0m \u001b[0;34m=\u001b[0m\u001b[0;32mTrue\u001b[0m\u001b[0;34m)\u001b[0m\u001b[0;34m\u001b[0m\u001b[0m\n\u001b[0m",
      "\u001b[0;32m/Users/fearnleymartin/anaconda/lib/python3.6/site-packages/pandas/io/json.py\u001b[0m in \u001b[0;36mread_json\u001b[0;34m(path_or_buf, orient, typ, dtype, convert_axes, convert_dates, keep_default_dates, numpy, precise_float, date_unit, encoding, lines)\u001b[0m\n\u001b[1;32m    279\u001b[0m         obj = FrameParser(json, orient, dtype, convert_axes, convert_dates,\n\u001b[1;32m    280\u001b[0m                           \u001b[0mkeep_default_dates\u001b[0m\u001b[0;34m,\u001b[0m \u001b[0mnumpy\u001b[0m\u001b[0;34m,\u001b[0m \u001b[0mprecise_float\u001b[0m\u001b[0;34m,\u001b[0m\u001b[0;34m\u001b[0m\u001b[0m\n\u001b[0;32m--> 281\u001b[0;31m                           date_unit).parse()\n\u001b[0m\u001b[1;32m    282\u001b[0m \u001b[0;34m\u001b[0m\u001b[0m\n\u001b[1;32m    283\u001b[0m     \u001b[0;32mif\u001b[0m \u001b[0mtyp\u001b[0m \u001b[0;34m==\u001b[0m \u001b[0;34m'series'\u001b[0m \u001b[0;32mor\u001b[0m \u001b[0mobj\u001b[0m \u001b[0;32mis\u001b[0m \u001b[0;32mNone\u001b[0m\u001b[0;34m:\u001b[0m\u001b[0;34m\u001b[0m\u001b[0m\n",
      "\u001b[0;32m/Users/fearnleymartin/anaconda/lib/python3.6/site-packages/pandas/io/json.py\u001b[0m in \u001b[0;36mparse\u001b[0;34m(self)\u001b[0m\n\u001b[1;32m    347\u001b[0m \u001b[0;34m\u001b[0m\u001b[0m\n\u001b[1;32m    348\u001b[0m         \u001b[0;32melse\u001b[0m\u001b[0;34m:\u001b[0m\u001b[0;34m\u001b[0m\u001b[0m\n\u001b[0;32m--> 349\u001b[0;31m             \u001b[0mself\u001b[0m\u001b[0;34m.\u001b[0m\u001b[0m_parse_no_numpy\u001b[0m\u001b[0;34m(\u001b[0m\u001b[0;34m)\u001b[0m\u001b[0;34m\u001b[0m\u001b[0m\n\u001b[0m\u001b[1;32m    350\u001b[0m \u001b[0;34m\u001b[0m\u001b[0m\n\u001b[1;32m    351\u001b[0m         \u001b[0;32mif\u001b[0m \u001b[0mself\u001b[0m\u001b[0;34m.\u001b[0m\u001b[0mobj\u001b[0m \u001b[0;32mis\u001b[0m \u001b[0;32mNone\u001b[0m\u001b[0;34m:\u001b[0m\u001b[0;34m\u001b[0m\u001b[0m\n",
      "\u001b[0;32m/Users/fearnleymartin/anaconda/lib/python3.6/site-packages/pandas/io/json.py\u001b[0m in \u001b[0;36m_parse_no_numpy\u001b[0;34m(self)\u001b[0m\n\u001b[1;32m    577\u001b[0m         \u001b[0;32melse\u001b[0m\u001b[0;34m:\u001b[0m\u001b[0;34m\u001b[0m\u001b[0m\n\u001b[1;32m    578\u001b[0m             self.obj = DataFrame(\n\u001b[0;32m--> 579\u001b[0;31m                 loads(json, precise_float=self.precise_float), dtype=None)\n\u001b[0m\u001b[1;32m    580\u001b[0m \u001b[0;34m\u001b[0m\u001b[0m\n\u001b[1;32m    581\u001b[0m     \u001b[0;32mdef\u001b[0m \u001b[0m_process_converter\u001b[0m\u001b[0;34m(\u001b[0m\u001b[0mself\u001b[0m\u001b[0;34m,\u001b[0m \u001b[0mf\u001b[0m\u001b[0;34m,\u001b[0m \u001b[0mfilt\u001b[0m\u001b[0;34m=\u001b[0m\u001b[0;32mNone\u001b[0m\u001b[0;34m)\u001b[0m\u001b[0;34m:\u001b[0m\u001b[0;34m\u001b[0m\u001b[0m\n",
      "\u001b[0;31mValueError\u001b[0m: Expected object or value"
     ]
    }
   ],
   "source": [
    "df = pd.read_json('duplicates_and_original_questions.json',orient= 'records',numpy = False,dtype = True,lines =True)"
   ]
  },
  {
   "cell_type": "code",
   "execution_count": 4,
   "metadata": {
    "collapsed": false
   },
   "outputs": [
    {
     "data": {
      "text/html": [
       "<div>\n",
       "<table border=\"1\" class=\"dataframe\">\n",
       "  <thead>\n",
       "    <tr style=\"text-align: right;\">\n",
       "      <th></th>\n",
       "      <th>answer</th>\n",
       "      <th>crawl_date</th>\n",
       "      <th>product</th>\n",
       "      <th>question</th>\n",
       "      <th>source_domain</th>\n",
       "      <th>source_url</th>\n",
       "      <th>uid</th>\n",
       "    </tr>\n",
       "  </thead>\n",
       "  <tbody>\n",
       "    <tr>\n",
       "      <th>0</th>\n",
       "      <td>{'answer_body': '\n",
       "You need to check it in wind...</td>\n",
       "      <td>2017-04-10T13:16:01.336850</td>\n",
       "      <td>ubuntu</td>\n",
       "      <td>{'question_body': '\n",
       "\n",
       "This question already has...</td>\n",
       "      <td>superuser.com</td>\n",
       "      <td>https://superuser.com/questions/1020804/list-o...</td>\n",
       "      <td>144994b8-1ddf-11e7-881f-9d7e2576939d</td>\n",
       "    </tr>\n",
       "    <tr>\n",
       "      <th>1</th>\n",
       "      <td>{'answer_body': '\n",
       "If you connect a LAN port on...</td>\n",
       "      <td>2017-04-10T13:17:40.724953</td>\n",
       "      <td>ubuntu</td>\n",
       "      <td>{'question_body': '\n",
       "\n",
       "This question already has...</td>\n",
       "      <td>superuser.com</td>\n",
       "      <td>https://superuser.com/questions/1101566/can-i-...</td>\n",
       "      <td>4f870080-1ddf-11e7-98aa-9d7e2576939d</td>\n",
       "    </tr>\n",
       "    <tr>\n",
       "      <th>2</th>\n",
       "      <td>{'answer_body': '\n",
       "Unless you're trying to run ...</td>\n",
       "      <td>2017-04-10T13:19:30.889944</td>\n",
       "      <td>ubuntu</td>\n",
       "      <td>{'question_body': '\n",
       "\n",
       "This question already has...</td>\n",
       "      <td>superuser.com</td>\n",
       "      <td>https://superuser.com/questions/1152621/can-i-...</td>\n",
       "      <td>9130b150-1ddf-11e7-a9f9-9d7e2576939d</td>\n",
       "    </tr>\n",
       "    <tr>\n",
       "      <th>3</th>\n",
       "      <td>{'answer_body': '\n",
       "See here, here and here.\n",
       "EDI...</td>\n",
       "      <td>2017-04-10T13:21:12.485814</td>\n",
       "      <td>ubuntu</td>\n",
       "      <td>{'question_body': '\n",
       "\n",
       "This question already has...</td>\n",
       "      <td>superuser.com</td>\n",
       "      <td>https://superuser.com/questions/846275/pes-201...</td>\n",
       "      <td>cdbf251c-1ddf-11e7-8122-9d7e2576939d</td>\n",
       "    </tr>\n",
       "    <tr>\n",
       "      <th>4</th>\n",
       "      <td>{'answer_body': '\n",
       "Check your BIOS/UFI settings...</td>\n",
       "      <td>2017-04-10T13:23:30.594418</td>\n",
       "      <td>ubuntu</td>\n",
       "      <td>{'question_body': '\n",
       "\n",
       "This question already has...</td>\n",
       "      <td>superuser.com</td>\n",
       "      <td>https://superuser.com/questions/1165109/samsun...</td>\n",
       "      <td>2010d876-1de0-11e7-94f5-9d7e2576939d</td>\n",
       "    </tr>\n",
       "  </tbody>\n",
       "</table>\n",
       "</div>"
      ],
      "text/plain": [
       "                                              answer  \\\n",
       "0  {'answer_body': '\n",
       "You need to check it in wind...   \n",
       "1  {'answer_body': '\n",
       "If you connect a LAN port on...   \n",
       "2  {'answer_body': '\n",
       "Unless you're trying to run ...   \n",
       "3  {'answer_body': '\n",
       "See here, here and here.\n",
       "EDI...   \n",
       "4  {'answer_body': '\n",
       "Check your BIOS/UFI settings...   \n",
       "\n",
       "                   crawl_date product  \\\n",
       "0  2017-04-10T13:16:01.336850  ubuntu   \n",
       "1  2017-04-10T13:17:40.724953  ubuntu   \n",
       "2  2017-04-10T13:19:30.889944  ubuntu   \n",
       "3  2017-04-10T13:21:12.485814  ubuntu   \n",
       "4  2017-04-10T13:23:30.594418  ubuntu   \n",
       "\n",
       "                                            question  source_domain  \\\n",
       "0  {'question_body': '\n",
       "\n",
       "This question already has...  superuser.com   \n",
       "1  {'question_body': '\n",
       "\n",
       "This question already has...  superuser.com   \n",
       "2  {'question_body': '\n",
       "\n",
       "This question already has...  superuser.com   \n",
       "3  {'question_body': '\n",
       "\n",
       "This question already has...  superuser.com   \n",
       "4  {'question_body': '\n",
       "\n",
       "This question already has...  superuser.com   \n",
       "\n",
       "                                          source_url  \\\n",
       "0  https://superuser.com/questions/1020804/list-o...   \n",
       "1  https://superuser.com/questions/1101566/can-i-...   \n",
       "2  https://superuser.com/questions/1152621/can-i-...   \n",
       "3  https://superuser.com/questions/846275/pes-201...   \n",
       "4  https://superuser.com/questions/1165109/samsun...   \n",
       "\n",
       "                                    uid  \n",
       "0  144994b8-1ddf-11e7-881f-9d7e2576939d  \n",
       "1  4f870080-1ddf-11e7-98aa-9d7e2576939d  \n",
       "2  9130b150-1ddf-11e7-a9f9-9d7e2576939d  \n",
       "3  cdbf251c-1ddf-11e7-8122-9d7e2576939d  \n",
       "4  2010d876-1de0-11e7-94f5-9d7e2576939d  "
      ]
     },
     "execution_count": 4,
     "metadata": {},
     "output_type": "execute_result"
    }
   ],
   "source": [
    "df.head()"
   ]
  },
  {
   "cell_type": "markdown",
   "metadata": {},
   "source": [
    "### Basic Statistics"
   ]
  },
  {
   "cell_type": "code",
   "execution_count": 5,
   "metadata": {
    "collapsed": true
   },
   "outputs": [],
   "source": [
    "number_of_question = df.shape[0]"
   ]
  },
  {
   "cell_type": "code",
   "execution_count": 6,
   "metadata": {
    "collapsed": false
   },
   "outputs": [],
   "source": [
    "number_of_duplicat = 0\n",
    "c = 0\n",
    "for e in df['question']:\n",
    "    \n",
    "    try :\n",
    "        line = e['question_original_url']\n",
    "        number_of_duplicat +=1\n",
    "        c +=1\n",
    "    except KeyError:\n",
    "        df.drop(df.index[c], inplace=True)"
   ]
  },
  {
   "cell_type": "code",
   "execution_count": 7,
   "metadata": {
    "collapsed": false
   },
   "outputs": [
    {
     "name": "stdout",
     "output_type": "stream",
     "text": [
      "number of questions 1108\n",
      "number of duplicate questions 1108\n"
     ]
    }
   ],
   "source": [
    "print('number of questions',number_of_question)\n",
    "print('number of duplicate questions',number_of_duplicat)"
   ]
  },
  {
   "cell_type": "code",
   "execution_count": 8,
   "metadata": {
    "collapsed": true
   },
   "outputs": [],
   "source": [
    "df.to_csv(path_or_buf='evaluationWithOnlyDuplicate.csv')"
   ]
  },
  {
   "cell_type": "markdown",
   "metadata": {},
   "source": [
    "## Preparing the Evaluation"
   ]
  },
  {
   "cell_type": "markdown",
   "metadata": {},
   "source": [
    "###### Run the script populating_DB and check your solr database http://localhost:8983/solr/#/Evaluation/query\n",
    "\n",
    "###### For the Evaluation run the script pipeline_to_evaluate.py it will create a pd_dataframe we will analyse there "
   ]
  },
  {
   "cell_type": "markdown",
   "metadata": {},
   "source": [
    "## Evaluation"
   ]
  },
  {
   "cell_type": "code",
   "execution_count": 9,
   "metadata": {
    "collapsed": true
   },
   "outputs": [],
   "source": [
    "def find_first_match(input_dataFrame,ref_uid,recall_at):\n",
    "    ''' Return the position of the first match with the uid\n",
    "    If first match is greater than recall_at the number is recall_at + 1\n",
    "    If the is no match return recallat + 2\n",
    "    '''\n",
    "    try : \n",
    "        number = input_dataFrame.uid[input_dataFrame.uid == ref_uid ].index.tolist()[0]\n",
    "        if number > recall_at :\n",
    "            number = recall_at + 1\n",
    "\n",
    "    except IndexError : \n",
    "        number = recall_at + 2\n",
    "    return number\n",
    "\n",
    "\n",
    "def compute_recall(uid_list,number_of_uid,recall_at) :\n",
    "    ''' Given a list of uid return the recall\n",
    "    '''\n",
    "    count = 0\n",
    "    for e in uid_list :\n",
    "        if  e < recall_at + 1 :\n",
    "            count +=1 \n",
    "    \n",
    "    return count/number_of_uid"
   ]
  },
  {
   "cell_type": "code",
   "execution_count": 10,
   "metadata": {
    "collapsed": true
   },
   "outputs": [],
   "source": [
    "# Usefull functions to perform basic statistics\n",
    "def compteNumberOfMiss(l):\n",
    "    count = 0\n",
    "    for e in l:\n",
    "        if e > recall_at :\n",
    "            count +=1\n",
    "    return count\n",
    "\n",
    "def mean(l):\n",
    "    mean = 0\n",
    "    for e in l:\n",
    "        if e > recall_at :\n",
    "            pass\n",
    "        else : \n",
    "            mean += e\n",
    "    if len(l)-compteNumberOfMiss(l) != 0 : \n",
    "        return mean/(len(l)-compteNumberOfMiss(l))\n",
    "    else :\n",
    "        return -1\n",
    "\n",
    "def SecondOrder(l):\n",
    "    second = 0\n",
    "    for e in l:\n",
    "        if e > recall_at :\n",
    "            pass\n",
    "        else : \n",
    "            second += e*e\n",
    "    return second/(len(l)-compteNumberOfMiss(l))"
   ]
  },
  {
   "cell_type": "code",
   "execution_count": 23,
   "metadata": {
    "collapsed": false
   },
   "outputs": [],
   "source": [
    "def display_graph(baseline,superuser,ubuntu,neo4j, mode='RECALL'):\n",
    "    plot([Scatter(x=np.arange(len(baseline)), y=baseline,mode = 'markers',name = 'SOLR'+mode),\n",
    "      Scatter(x=np.arange(len(superuser)), y=superuser,mode = 'markers',name = 'RNN superuser'+ mode),\n",
    "      Scatter(x=np.arange(len(ubuntu)), y=ubuntu,mode = 'markers',name = 'RNN RECALL ubuntu'+ mode),\n",
    "     Scatter(x=np.arange(len(neo4j)), y=neo4j,mode = 'markers',name = 'NEO4J'+ mode)])\n",
    "    \n",
    "\n",
    "def display_statistic_table(baseline,superuser,ubuntu,neo4j, mode='RECALL') :\n",
    "    count = len(baseline)\n",
    "    if mode == 'BEST RANKING' :\n",
    "        data_matrix = [['Model', 'Mean', 'Second Order Moment','Number of miss (%)'],\n",
    "                   ['Baseline '+mode, mean(baseline), SecondOrder(baseline),compteNumberOfMiss(baseline)/count],\n",
    "                   ['Rnn superuser '+mode, mean(superuser), SecondOrder(superuser),compteNumberOfMiss(superuser)/count],\n",
    "                   ['Rnn ubuntu '+mode, mean(ubuntu), SecondOrder(ubuntu),compteNumberOfMiss(ubuntu)/count],\n",
    "                    ['Neo4j '+mode, mean(neo4j), SecondOrder(neo4j),compteNumberOfMiss(neo4j)/count],\n",
    "                   ]\n",
    "    if mode == 'RECALL' : \n",
    "        data_matrix = \n",
    "        \n",
    "\n",
    "    table = ff.create_table(data_matrix)\n",
    "    iplot(table, filename='Model Evaluation')"
   ]
  },
  {
   "cell_type": "code",
   "execution_count": 28,
   "metadata": {
    "collapsed": true
   },
   "outputs": [],
   "source": [
    "recall_at = 10\n",
    "\n",
    "# Evaluation 1 : Best Ranking \n",
    "ranking_baseline = []\n",
    "ranking_rnn_ubuntu = []\n",
    "ranking_rnn_superuser = []\n",
    "ranking_neo4j = []\n",
    "\n",
    "# Evaluation 2 : Recall\n",
    "frecall_baseline = []\n",
    "frecall_rnn_ubuntu = []\n",
    "frecall_rnn_superuser = []\n",
    "frecall_neo4j = []"
   ]
  },
  {
   "cell_type": "code",
   "execution_count": 29,
   "metadata": {
    "collapsed": false,
    "scrolled": true
   },
   "outputs": [
    {
     "name": "stdout",
     "output_type": "stream",
     "text": [
      "Error\n",
      "Error\n",
      "The number of documents is :  179\n"
     ]
    }
   ],
   "source": [
    "count = 0\n",
    "for filename in os.listdir(str(os.getcwd())+'/Output_duplicat/RNN100'):\n",
    "        count +=1\n",
    "        uid = filename[:len(filename)-4]\n",
    "        ## Load the results\n",
    " \n",
    "        df_baseline=pd.read_csv(str(os.getcwd())+'/Output_duplicat/BASELINE/'+filename)\n",
    "        df_rnn_superuser=pd.read_csv(str(os.getcwd())+'/Output_duplicat/RNN100/'+filename)\n",
    "        df_rnn_ubuntu=pd.read_csv(str(os.getcwd())+'/Output_duplicat/RNN200/'+filename)\n",
    "        df_neo4j=pd.read_csv(str(os.getcwd())+'/Output_duplicat/NEO4j/'+filename)\n",
    "        text_file = open(str(os.getcwd())+'/Output_duplicat/TEXT/'+ filename)\n",
    "        lines = text_file.readlines()\n",
    "        \n",
    "        rank_first_match_baseline = []\n",
    "        rank_first_match_rnn_superuser =[]\n",
    "        rank_first_match_rnn_ubuntu =[]\n",
    "        rank_first_match_neo4j =[]\n",
    "        if lines != []:    \n",
    "            ## Remove uid of the question\n",
    "            lines.remove(uid+'\\n')\n",
    "            \n",
    "            for i in range(len(lines)):\n",
    "                ref_uid = lines[i].rstrip()\n",
    "                \n",
    "                # BASELINE\n",
    "                rank_first_match_baseline.append(find_first_match(df_baseline,ref_uid,recall_at))\n",
    "\n",
    "                # Neo4j\n",
    "                rank_first_match_neo4j.append(find_first_match(df_neo4j,ref_uid,recall_at))\n",
    "                \n",
    "                # RNN superuser\n",
    "                rank_first_match_rnn_superuser.append(find_first_match(df_rnn_superuser,ref_uid,recall_at))\n",
    "                \n",
    "                # RNN ubuntu\n",
    "                rank_first_match_rnn_ubuntu.append(find_first_match(df_rnn_ubuntu,ref_uid,recall_at))\n",
    "            \n",
    "            try : \n",
    "                \n",
    "                # Evaluation 1 : Best Ranking \n",
    "                best_ranking_baseline = min(rank_first_match_baseline)\n",
    "                best_ranking_rnn_superuser = min(rank_first_match_rnn_superuser)\n",
    "                best_ranking_rnn_ubuntu = min(rank_first_match_rnn_ubuntu)\n",
    "                best_ranking_neo4j = min(rank_first_match_neo4j)\n",
    "                \n",
    "                # Evaluation 2 : Recall\n",
    "                recall_neo4j = compute_recall(rank_first_match_neo4j,len(lines),recall_at)\n",
    "                recall_rnn_superuser = compute_recall(rank_first_match_rnn_superuser,len(lines),recall_at)\n",
    "                recall_rnn_ubuntu = compute_recall(rank_first_match_rnn_ubuntu,len(lines),recall_at)\n",
    "                recall_baseline = compute_recall(rank_first_match_baseline,len(lines),recall_at)\n",
    "                \n",
    "                \n",
    "            except ValueError :\n",
    "                # Error I cannot identify\n",
    "                print('Error')\n",
    "                best_ranking_baseline = recall_at + 3 \n",
    "                best_ranking_rnn_superuser = recall_at + 3\n",
    "                best_ranking_rnn_ubuntu =recall_at + 3\n",
    "                best_ranking_neo4j = recall_at + 3\n",
    "                \n",
    "                recall_neo4j = recall_at +1\n",
    "                recall_rnn_superuser = recall_at +1\n",
    "                recall_rnn_ubuntu = recall_at +1\n",
    "                recall_baseline = recall_at +1\n",
    "                \n",
    "            \n",
    "        ranking_baseline.append(best_ranking_baseline)\n",
    "        ranking_rnn_superuser.append(best_ranking_rnn_superuser)\n",
    "        ranking_rnn_ubuntu.append(best_ranking_rnn_ubuntu)\n",
    "        ranking_neo4j.append(best_ranking_neo4j)\n",
    "        \n",
    "        frecall_baseline.append(recall_baseline)\n",
    "        frecall_rnn_superuser.append(recall_rnn_superuser)\n",
    "        frecall_rnn_ubuntu.append(recall_rnn_ubuntu)\n",
    "        frecall_neo4j.append(recall_neo4j)\n",
    "print('The number of documents is : ', count)"
   ]
  },
  {
   "cell_type": "markdown",
   "metadata": {},
   "source": [
    "###### Evaluation 1 : Best ranking"
   ]
  },
  {
   "cell_type": "code",
   "execution_count": 27,
   "metadata": {
    "collapsed": false
   },
   "outputs": [],
   "source": [
    "display_graph(ranking_baseline,ranking_rnn_superuser,ranking_rnn_ubuntu,ranking_neo4j, mode='BEST RANKING')"
   ]
  },
  {
   "cell_type": "code",
   "execution_count": 30,
   "metadata": {
    "collapsed": false
   },
   "outputs": [
    {
     "data": {
      "text/html": [
       "<div id=\"d72fce56-5420-40a3-98a7-4fdd035a9e63\" style=\"height: 200px; width: 100%;\" class=\"plotly-graph-div\"></div><script type=\"text/javascript\">require([\"plotly\"], function(Plotly) { window.PLOTLYENV=window.PLOTLYENV || {};window.PLOTLYENV.BASE_URL=\"https://plot.ly\";Plotly.newPlot(\"d72fce56-5420-40a3-98a7-4fdd035a9e63\", [{\"hoverinfo\": \"none\", \"colorscale\": [[0, \"#00083e\"], [0.5, \"#ededee\"], [1, \"#ffffff\"]], \"z\": [[0, 0, 0, 0], [0.5, 0.5, 0.5, 0.5], [1, 1, 1, 1], [0.5, 0.5, 0.5, 0.5], [1, 1, 1, 1]], \"opacity\": 0.75, \"showscale\": false, \"type\": \"heatmap\"}], {\"yaxis\": {\"dtick\": 1, \"showticklabels\": false, \"tick0\": 0.5, \"ticks\": \"\", \"zeroline\": false, \"gridwidth\": 2, \"autorange\": \"reversed\"}, \"annotations\": [{\"yref\": \"y1\", \"x\": -0.45, \"showarrow\": false, \"xanchor\": \"left\", \"xref\": \"x1\", \"align\": \"left\", \"font\": {\"color\": \"#ffffff\"}, \"text\": \"<b>Model</b>\", \"y\": 0}, {\"yref\": \"y1\", \"x\": 0.55, \"showarrow\": false, \"xanchor\": \"left\", \"xref\": \"x1\", \"align\": \"left\", \"font\": {\"color\": \"#ffffff\"}, \"text\": \"<b>Mean</b>\", \"y\": 0}, {\"yref\": \"y1\", \"x\": 1.55, \"showarrow\": false, \"xanchor\": \"left\", \"xref\": \"x1\", \"align\": \"left\", \"font\": {\"color\": \"#ffffff\"}, \"text\": \"<b>Second Order Moment</b>\", \"y\": 0}, {\"yref\": \"y1\", \"x\": 2.55, \"showarrow\": false, \"xanchor\": \"left\", \"xref\": \"x1\", \"align\": \"left\", \"font\": {\"color\": \"#ffffff\"}, \"text\": \"<b>Number of miss (%)</b>\", \"y\": 0}, {\"yref\": \"y1\", \"x\": -0.45, \"showarrow\": false, \"xanchor\": \"left\", \"xref\": \"x1\", \"align\": \"left\", \"font\": {\"color\": \"#000000\"}, \"text\": \"Baseline BEST RANKING\", \"y\": 1}, {\"yref\": \"y1\", \"x\": 0.55, \"showarrow\": false, \"xanchor\": \"left\", \"xref\": \"x1\", \"align\": \"left\", \"font\": {\"color\": \"#000000\"}, \"text\": \"0.693641618497\", \"y\": 1}, {\"yref\": \"y1\", \"x\": 1.55, \"showarrow\": false, \"xanchor\": \"left\", \"xref\": \"x1\", \"align\": \"left\", \"font\": {\"color\": \"#000000\"}, \"text\": \"1.83815028902\", \"y\": 1}, {\"yref\": \"y1\", \"x\": 2.55, \"showarrow\": false, \"xanchor\": \"left\", \"xref\": \"x1\", \"align\": \"left\", \"font\": {\"color\": \"#000000\"}, \"text\": \"0.0335195530726257\", \"y\": 1}, {\"yref\": \"y1\", \"x\": -0.45, \"showarrow\": false, \"xanchor\": \"left\", \"xref\": \"x1\", \"align\": \"left\", \"font\": {\"color\": \"#000000\"}, \"text\": \"Rnn superuser BEST RANKING\", \"y\": 2}, {\"yref\": \"y1\", \"x\": 0.55, \"showarrow\": false, \"xanchor\": \"left\", \"xref\": \"x1\", \"align\": \"left\", \"font\": {\"color\": \"#000000\"}, \"text\": \"2.13636363636\", \"y\": 2}, {\"yref\": \"y1\", \"x\": 1.55, \"showarrow\": false, \"xanchor\": \"left\", \"xref\": \"x1\", \"align\": \"left\", \"font\": {\"color\": \"#000000\"}, \"text\": \"14.1363636364\", \"y\": 2}, {\"yref\": \"y1\", \"x\": 2.55, \"showarrow\": false, \"xanchor\": \"left\", \"xref\": \"x1\", \"align\": \"left\", \"font\": {\"color\": \"#000000\"}, \"text\": \"0.8770949720670391\", \"y\": 2}, {\"yref\": \"y1\", \"x\": -0.45, \"showarrow\": false, \"xanchor\": \"left\", \"xref\": \"x1\", \"align\": \"left\", \"font\": {\"color\": \"#000000\"}, \"text\": \"Rnn ubuntu BEST RANKING\", \"y\": 3}, {\"yref\": \"y1\", \"x\": 0.55, \"showarrow\": false, \"xanchor\": \"left\", \"xref\": \"x1\", \"align\": \"left\", \"font\": {\"color\": \"#000000\"}, \"text\": \"1.41509433962\", \"y\": 3}, {\"yref\": \"y1\", \"x\": 1.55, \"showarrow\": false, \"xanchor\": \"left\", \"xref\": \"x1\", \"align\": \"left\", \"font\": {\"color\": \"#000000\"}, \"text\": \"6.47169811321\", \"y\": 3}, {\"yref\": \"y1\", \"x\": 2.55, \"showarrow\": false, \"xanchor\": \"left\", \"xref\": \"x1\", \"align\": \"left\", \"font\": {\"color\": \"#000000\"}, \"text\": \"0.7039106145251397\", \"y\": 3}, {\"yref\": \"y1\", \"x\": -0.45, \"showarrow\": false, \"xanchor\": \"left\", \"xref\": \"x1\", \"align\": \"left\", \"font\": {\"color\": \"#000000\"}, \"text\": \"Neo4j BEST RANKING\", \"y\": 4}, {\"yref\": \"y1\", \"x\": 0.55, \"showarrow\": false, \"xanchor\": \"left\", \"xref\": \"x1\", \"align\": \"left\", \"font\": {\"color\": \"#000000\"}, \"text\": \"1.07746478873\", \"y\": 4}, {\"yref\": \"y1\", \"x\": 1.55, \"showarrow\": false, \"xanchor\": \"left\", \"xref\": \"x1\", \"align\": \"left\", \"font\": {\"color\": \"#000000\"}, \"text\": \"5.73943661972\", \"y\": 4}, {\"yref\": \"y1\", \"x\": 2.55, \"showarrow\": false, \"xanchor\": \"left\", \"xref\": \"x1\", \"align\": \"left\", \"font\": {\"color\": \"#000000\"}, \"text\": \"0.20670391061452514\", \"y\": 4}], \"height\": 200, \"xaxis\": {\"dtick\": 1, \"showticklabels\": false, \"tick0\": -0.5, \"ticks\": \"\", \"zeroline\": false, \"gridwidth\": 2}, \"margin\": {\"b\": 0, \"l\": 0, \"r\": 0, \"t\": 0}}, {\"linkText\": \"Export to plot.ly\", \"showLink\": true})});</script>"
      ]
     },
     "metadata": {},
     "output_type": "execute_result"
    }
   ],
   "source": [
    "display_statistic_table(ranking_baseline,ranking_rnn_superuser,ranking_rnn_ubuntu,ranking_neo4j, mode='BEST RANKING')"
   ]
  },
  {
   "cell_type": "markdown",
   "metadata": {
    "collapsed": false
   },
   "source": [
    "###### Evaluation 2 : Recall"
   ]
  },
  {
   "cell_type": "code",
   "execution_count": 26,
   "metadata": {
    "collapsed": false
   },
   "outputs": [],
   "source": [
    "display_graph(frecall_baseline,frecall_rnn_superuser,frecall_rnn_ubuntu,frecall_neo4j, mode='RECALL')"
   ]
  },
  {
   "cell_type": "code",
   "execution_count": 25,
   "metadata": {
    "collapsed": false
   },
   "outputs": [
    {
     "data": {
      "text/html": [
       "<div id=\"3e8a6d6a-039b-4a54-a757-6ff0a8b3df0a\" style=\"height: 200px; width: 100%;\" class=\"plotly-graph-div\"></div><script type=\"text/javascript\">require([\"plotly\"], function(Plotly) { window.PLOTLYENV=window.PLOTLYENV || {};window.PLOTLYENV.BASE_URL=\"https://plot.ly\";Plotly.newPlot(\"3e8a6d6a-039b-4a54-a757-6ff0a8b3df0a\", [{\"hoverinfo\": \"none\", \"colorscale\": [[0, \"#00083e\"], [0.5, \"#ededee\"], [1, \"#ffffff\"]], \"z\": [[0, 0, 0, 0], [0.5, 0.5, 0.5, 0.5], [1, 1, 1, 1], [0.5, 0.5, 0.5, 0.5], [1, 1, 1, 1]], \"opacity\": 0.75, \"showscale\": false, \"type\": \"heatmap\"}], {\"yaxis\": {\"dtick\": 1, \"showticklabels\": false, \"tick0\": 0.5, \"ticks\": \"\", \"zeroline\": false, \"gridwidth\": 2, \"autorange\": \"reversed\"}, \"annotations\": [{\"yref\": \"y1\", \"x\": -0.45, \"showarrow\": false, \"xanchor\": \"left\", \"xref\": \"x1\", \"align\": \"left\", \"font\": {\"color\": \"#ffffff\"}, \"text\": \"<b>Model</b>\", \"y\": 0}, {\"yref\": \"y1\", \"x\": 0.55, \"showarrow\": false, \"xanchor\": \"left\", \"xref\": \"x1\", \"align\": \"left\", \"font\": {\"color\": \"#ffffff\"}, \"text\": \"<b>Mean</b>\", \"y\": 0}, {\"yref\": \"y1\", \"x\": 1.55, \"showarrow\": false, \"xanchor\": \"left\", \"xref\": \"x1\", \"align\": \"left\", \"font\": {\"color\": \"#ffffff\"}, \"text\": \"<b>Second Order Moment</b>\", \"y\": 0}, {\"yref\": \"y1\", \"x\": 2.55, \"showarrow\": false, \"xanchor\": \"left\", \"xref\": \"x1\", \"align\": \"left\", \"font\": {\"color\": \"#ffffff\"}, \"text\": \"<b>Number of miss (%)</b>\", \"y\": 0}, {\"yref\": \"y1\", \"x\": -0.45, \"showarrow\": false, \"xanchor\": \"left\", \"xref\": \"x1\", \"align\": \"left\", \"font\": {\"color\": \"#000000\"}, \"text\": \"Baseline RECALL\", \"y\": 1}, {\"yref\": \"y1\", \"x\": 0.55, \"showarrow\": false, \"xanchor\": \"left\", \"xref\": \"x1\", \"align\": \"left\", \"font\": {\"color\": \"#000000\"}, \"text\": \"0.7148864977147809\", \"y\": 1}, {\"yref\": \"y1\", \"x\": 1.55, \"showarrow\": false, \"xanchor\": \"left\", \"xref\": \"x1\", \"align\": \"left\", \"font\": {\"color\": \"#000000\"}, \"text\": \"0.6343023122398818\", \"y\": 1}, {\"yref\": \"y1\", \"x\": 2.55, \"showarrow\": false, \"xanchor\": \"left\", \"xref\": \"x1\", \"align\": \"left\", \"font\": {\"color\": \"#000000\"}, \"text\": \"0.01\", \"y\": 1}, {\"yref\": \"y1\", \"x\": -0.45, \"showarrow\": false, \"xanchor\": \"left\", \"xref\": \"x1\", \"align\": \"left\", \"font\": {\"color\": \"#000000\"}, \"text\": \"Rnn superuser RECALL\", \"y\": 2}, {\"yref\": \"y1\", \"x\": 0.55, \"showarrow\": false, \"xanchor\": \"left\", \"xref\": \"x1\", \"align\": \"left\", \"font\": {\"color\": \"#000000\"}, \"text\": \"0.6866465745253626\", \"y\": 2}, {\"yref\": \"y1\", \"x\": 1.55, \"showarrow\": false, \"xanchor\": \"left\", \"xref\": \"x1\", \"align\": \"left\", \"font\": {\"color\": \"#000000\"}, \"text\": \"0.5913093025765039\", \"y\": 2}, {\"yref\": \"y1\", \"x\": 2.55, \"showarrow\": false, \"xanchor\": \"left\", \"xref\": \"x1\", \"align\": \"left\", \"font\": {\"color\": \"#000000\"}, \"text\": \"0.01\", \"y\": 2}, {\"yref\": \"y1\", \"x\": -0.45, \"showarrow\": false, \"xanchor\": \"left\", \"xref\": \"x1\", \"align\": \"left\", \"font\": {\"color\": \"#000000\"}, \"text\": \"Rnn ubuntu RECALL\", \"y\": 3}, {\"yref\": \"y1\", \"x\": 0.55, \"showarrow\": false, \"xanchor\": \"left\", \"xref\": \"x1\", \"align\": \"left\", \"font\": {\"color\": \"#000000\"}, \"text\": \"0.6866465745253626\", \"y\": 3}, {\"yref\": \"y1\", \"x\": 1.55, \"showarrow\": false, \"xanchor\": \"left\", \"xref\": \"x1\", \"align\": \"left\", \"font\": {\"color\": \"#000000\"}, \"text\": \"0.5913093025765039\", \"y\": 3}, {\"yref\": \"y1\", \"x\": 2.55, \"showarrow\": false, \"xanchor\": \"left\", \"xref\": \"x1\", \"align\": \"left\", \"font\": {\"color\": \"#000000\"}, \"text\": \"0.01\", \"y\": 3}, {\"yref\": \"y1\", \"x\": -0.45, \"showarrow\": false, \"xanchor\": \"left\", \"xref\": \"x1\", \"align\": \"left\", \"font\": {\"color\": \"#000000\"}, \"text\": \"Neo4j RECALL\", \"y\": 4}, {\"yref\": \"y1\", \"x\": 0.55, \"showarrow\": false, \"xanchor\": \"left\", \"xref\": \"x1\", \"align\": \"left\", \"font\": {\"color\": \"#000000\"}, \"text\": \"0.4147656309272472\", \"y\": 4}, {\"yref\": \"y1\", \"x\": 1.55, \"showarrow\": false, \"xanchor\": \"left\", \"xref\": \"x1\", \"align\": \"left\", \"font\": {\"color\": \"#000000\"}, \"text\": \"0.2976716982884609\", \"y\": 4}, {\"yref\": \"y1\", \"x\": 2.55, \"showarrow\": false, \"xanchor\": \"left\", \"xref\": \"x1\", \"align\": \"left\", \"font\": {\"color\": \"#000000\"}, \"text\": \"0.01\", \"y\": 4}], \"height\": 200, \"xaxis\": {\"dtick\": 1, \"showticklabels\": false, \"tick0\": -0.5, \"ticks\": \"\", \"zeroline\": false, \"gridwidth\": 2}, \"margin\": {\"b\": 0, \"l\": 0, \"r\": 0, \"t\": 0}}, {\"linkText\": \"Export to plot.ly\", \"showLink\": true})});</script>"
      ]
     },
     "metadata": {},
     "output_type": "execute_result"
    }
   ],
   "source": [
    "display_statistic_table(frecall_baseline,frecall_rnn_superuser,frecall_rnn_ubuntu,frecall_neo4j, mode='RECALL')"
   ]
  },
  {
   "cell_type": "code",
   "execution_count": null,
   "metadata": {
    "collapsed": true
   },
   "outputs": [],
   "source": []
  }
 ],
 "metadata": {
  "anaconda-cloud": {},
  "kernelspec": {
   "display_name": "Python 3",
   "language": "python",
   "name": "python3"
  },
  "language_info": {
   "codemirror_mode": {
    "name": "ipython",
    "version": 3
   },
   "file_extension": ".py",
   "mimetype": "text/x-python",
   "name": "python",
   "nbconvert_exporter": "python",
   "pygments_lexer": "ipython3",
   "version": "3.6.0"
  }
 },
 "nbformat": 4,
 "nbformat_minor": 0
}
