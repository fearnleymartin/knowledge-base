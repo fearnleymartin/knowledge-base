{
 "cells": [
  {
   "cell_type": "markdown",
   "metadata": {},
   "source": [
    "# DB evaluation "
   ]
  },
  {
   "cell_type": "code",
   "execution_count": 1,
   "metadata": {
    "collapsed": false
   },
   "outputs": [
    {
     "data": {
      "text/html": [
       "<script>requirejs.config({paths: { 'plotly': ['https://cdn.plot.ly/plotly-latest.min']},});if(!window.Plotly) {{require(['plotly'],function(plotly) {window.Plotly=plotly;});}}</script>"
      ],
      "text/vnd.plotly.v1+html": [
       "<script>requirejs.config({paths: { 'plotly': ['https://cdn.plot.ly/plotly-latest.min']},});if(!window.Plotly) {{require(['plotly'],function(plotly) {window.Plotly=plotly;});}}</script>"
      ]
     },
     "metadata": {},
     "output_type": "display_data"
    }
   ],
   "source": [
    "import pandas as pd\n",
    "import json\n",
    "import os\n",
    "import time\n",
    "import itertools\n",
    "import sys\n",
    "import numpy as np\n",
    "import tensorflow as tf\n",
    "import pandas as pd\n",
    "import matplotlib.pyplot as plt\n",
    "from plotly import __version__\n",
    "from plotly.offline import download_plotlyjs, init_notebook_mode, plot, iplot\n",
    "init_notebook_mode(connected=True)\n",
    "from plotly.graph_objs import *\n",
    "import os\n",
    "from plotly import figure_factory as ff\n",
    "import ast"
   ]
  },
  {
   "cell_type": "code",
   "execution_count": 2,
   "metadata": {
    "collapsed": false
   },
   "outputs": [
    {
     "name": "stdout",
     "output_type": "stream",
     "text": [
      "3.5.2 |Anaconda 4.2.0 (x86_64)| (default, Jul  2 2016, 17:52:12) \n",
      "[GCC 4.2.1 Compatible Apple LLVM 4.2 (clang-425.0.28)]\n",
      "0.19.2\n"
     ]
    }
   ],
   "source": [
    "import sys\n",
    "print (sys.version)\n",
    "print(pd.__version__)"
   ]
  },
  {
   "cell_type": "markdown",
   "metadata": {},
   "source": [
    "## Find by coefficients best coefficients :"
   ]
  },
  {
   "cell_type": "code",
   "execution_count": 3,
   "metadata": {
    "collapsed": false
   },
   "outputs": [],
   "source": [
    "df=pd.read_csv('optimization_coefficents_tf.csv', index_col=0)"
   ]
  },
  {
   "cell_type": "code",
   "execution_count": 4,
   "metadata": {
    "collapsed": false
   },
   "outputs": [],
   "source": [
    "df = df.groupby(['Coeff 1', 'Coeff 2'])[['nbr TF', 'nbr PR']].sum()"
   ]
  },
  {
   "cell_type": "code",
   "execution_count": 5,
   "metadata": {
    "collapsed": false
   },
   "outputs": [
    {
     "data": {
      "text/html": [
       "<div>\n",
       "<table border=\"1\" class=\"dataframe\">\n",
       "  <thead>\n",
       "    <tr style=\"text-align: right;\">\n",
       "      <th></th>\n",
       "      <th></th>\n",
       "      <th>nbr TF</th>\n",
       "      <th>nbr PR</th>\n",
       "    </tr>\n",
       "    <tr>\n",
       "      <th>Coeff 1</th>\n",
       "      <th>Coeff 2</th>\n",
       "      <th></th>\n",
       "      <th></th>\n",
       "    </tr>\n",
       "  </thead>\n",
       "  <tbody>\n",
       "    <tr>\n",
       "      <th rowspan=\"3\" valign=\"top\">1</th>\n",
       "      <th>1</th>\n",
       "      <td>20</td>\n",
       "      <td>0</td>\n",
       "    </tr>\n",
       "    <tr>\n",
       "      <th>10</th>\n",
       "      <td>20</td>\n",
       "      <td>0</td>\n",
       "    </tr>\n",
       "    <tr>\n",
       "      <th>100</th>\n",
       "      <td>20</td>\n",
       "      <td>0</td>\n",
       "    </tr>\n",
       "    <tr>\n",
       "      <th rowspan=\"3\" valign=\"top\">10</th>\n",
       "      <th>1</th>\n",
       "      <td>25</td>\n",
       "      <td>0</td>\n",
       "    </tr>\n",
       "    <tr>\n",
       "      <th>10</th>\n",
       "      <td>20</td>\n",
       "      <td>0</td>\n",
       "    </tr>\n",
       "    <tr>\n",
       "      <th>100</th>\n",
       "      <td>20</td>\n",
       "      <td>0</td>\n",
       "    </tr>\n",
       "    <tr>\n",
       "      <th rowspan=\"3\" valign=\"top\">100</th>\n",
       "      <th>1</th>\n",
       "      <td>20</td>\n",
       "      <td>0</td>\n",
       "    </tr>\n",
       "    <tr>\n",
       "      <th>10</th>\n",
       "      <td>25</td>\n",
       "      <td>0</td>\n",
       "    </tr>\n",
       "    <tr>\n",
       "      <th>100</th>\n",
       "      <td>20</td>\n",
       "      <td>0</td>\n",
       "    </tr>\n",
       "  </tbody>\n",
       "</table>\n",
       "</div>"
      ],
      "text/plain": [
       "                 nbr TF  nbr PR\n",
       "Coeff 1 Coeff 2                \n",
       "1       1            20       0\n",
       "        10           20       0\n",
       "        100          20       0\n",
       "10      1            25       0\n",
       "        10           20       0\n",
       "        100          20       0\n",
       "100     1            20       0\n",
       "        10           25       0\n",
       "        100          20       0"
      ]
     },
     "execution_count": 5,
     "metadata": {},
     "output_type": "execute_result"
    }
   ],
   "source": [
    "df.head(100)"
   ]
  },
  {
   "cell_type": "code",
   "execution_count": 6,
   "metadata": {
    "collapsed": false
   },
   "outputs": [
    {
     "data": {
      "image/png": "[encoded data removed]",
      "text/plain": [
       "<matplotlib.figure.Figure at 0x11bec1a58>"
      ]
     },
     "metadata": {},
     "output_type": "display_data"
    }
   ],
   "source": [
    "import matplotlib.pyplot as plt\n",
    "coefficient_word = [0,1,2,0,1,2,0]\n",
    "coefficient_author = [0,0,0,1,1,1,2]\n",
    "score = [2.8,2.5,2.6,9.6,2.8,2.5,10]\n",
    "plt.plot(coefficient_word, score, 'bs',coefficient_author,score, 'ro')\n",
    "plt.show()\n"
   ]
  },
  {
   "cell_type": "markdown",
   "metadata": {},
   "source": [
    "## Evaluation"
   ]
  },
  {
   "cell_type": "code",
   "execution_count": 3,
   "metadata": {
    "collapsed": true
   },
   "outputs": [],
   "source": [
    "df = pd.read_csv('../Data/duplicate_questions.csv') #dataFrame where questions are located"
   ]
  },
  {
   "cell_type": "markdown",
   "metadata": {},
   "source": [
    "###### Compute results helpers"
   ]
  },
  {
   "cell_type": "code",
   "execution_count": 4,
   "metadata": {
    "collapsed": true
   },
   "outputs": [],
   "source": [
    "def string_to_list(mylist) :\n",
    "    mylist = ast.literal_eval(mylist)\n",
    "    mylist = [n.strip() for n in mylist]\n",
    "    return mylist\n",
    "\n",
    "def common_elements(list1, list2):\n",
    "    return [element for element in list1 if element in list2]\n",
    "\n",
    "def remove_duplicat(mylist):\n",
    "    return list(set(mylist))"
   ]
  },
  {
   "cell_type": "code",
   "execution_count": 5,
   "metadata": {
    "collapsed": true
   },
   "outputs": [],
   "source": [
    "def find_first_match(input_dataFrame,ref_uid,recall_at):\n",
    "    ''' Return the position of the first match with the uid\n",
    "    If first match is greater than recall_at the number is recall_at + 1\n",
    "    If the is no match return recallat + 2\n",
    "    '''\n",
    "    try : \n",
    "        number = input_dataFrame.uid[input_dataFrame.uid == ref_uid ].index.tolist()[0]\n",
    "        if number > recall_at :\n",
    "            number = recall_at + 1\n",
    "\n",
    "    except IndexError : \n",
    "        number = recall_at + 2\n",
    "    return number\n",
    "\n",
    "\n",
    "def compute_recall(ref_list_uid,predicted_list,recall_at) :\n",
    "    ''' Given a list of uid return the recall\n",
    "    '''\n",
    "    count = 0\n",
    "    for e in predicted_list :\n",
    "        \n",
    "        if  e in ref_list_uid :\n",
    "            count +=1\n",
    "    \n",
    "    return count/len(ref_list_uid)"
   ]
  },
  {
   "cell_type": "markdown",
   "metadata": {},
   "source": [
    "###### Visualisation helper"
   ]
  },
  {
   "cell_type": "code",
   "execution_count": 15,
   "metadata": {
    "collapsed": false
   },
   "outputs": [],
   "source": [
    "# Usefull functions to perform basic statistics\n",
    "def compteNumberOfMiss(l):\n",
    "    count = 0\n",
    "    for e in l:\n",
    "        if e > recall_at :\n",
    "            count +=1\n",
    "    return count\n",
    "\n",
    "def mean(l):\n",
    "    mean = 0\n",
    "    for e in l:\n",
    "        if e > recall_at :\n",
    "            pass\n",
    "        else : \n",
    "            mean += e\n",
    "    if len(l)-compteNumberOfMiss(l) != 0 : \n",
    "        return mean/(len(l)-compteNumberOfMiss(l))\n",
    "    else :\n",
    "        return -1\n",
    "\n",
    "def SecondOrder(l):\n",
    "    second = 0\n",
    "    for e in l:\n",
    "        if e > recall_at :\n",
    "            pass\n",
    "        else : \n",
    "            second += e*e\n",
    "    return second/(len(l)-compteNumberOfMiss(l))\n",
    "\n",
    "\n",
    "def display_graph(baseline,superuser,ubuntu,neo4j_pr,neo4j_tfidf,neo4j_pr_op,neo4j_tfidf_op, mode='RECALL'):\n",
    "    plot([Scatter(x=np.arange(len(baseline)), y=baseline,mode = 'markers',name = 'SOLR '+mode),\n",
    "      Scatter(x=np.arange(len(superuser)), y=superuser,mode = 'markers',name = 'RNN superuser '+ mode),\n",
    "      Scatter(x=np.arange(len(ubuntu)), y=ubuntu,mode = 'markers',name = 'RNN RECALL ubuntu '+ mode),\n",
    "     Scatter(x=np.arange(len(neo4j_pr)), y=neo4j_pr,mode = 'markers',name = 'NEO4J PR '+ mode),\n",
    "    Scatter(x=np.arange(len(neo4j_tfidf)), y=neo4j_tfidf,mode = 'markers',name = 'NEO4J TFIDF '+ mode),\n",
    "     Scatter(x=np.arange(len(neo4j_pr_op)), y=neo4j_pr_op,mode = 'markers',name = 'NEO4J PR OP '+ mode),\n",
    "    Scatter(x=np.arange(len(neo4j_tfidf_op)), y=neo4j_tfidf_op,mode = 'markers',name = 'NEO4J TFIDF OP '+ mode)])\n",
    "\n",
    "def display_statistic_table(baseline,superuser,ubuntu,neo4j_pr,neo4j_tfidf, neo4j_pr_op,neo4j_tfidf_op, mode='RECALL') :\n",
    "    count = len(baseline)\n",
    "    if mode == 'BEST RANKING' :\n",
    "        data_matrix = [['Model', 'Mean', 'Second Order Moment','Number of miss (%)'],\n",
    "                   ['Baseline '+mode, mean(baseline), SecondOrder(baseline),compteNumberOfMiss(baseline)/count],\n",
    "                   ['Rnn superuser '+mode, mean(ubuntu), SecondOrder(ubuntu),compteNumberOfMiss(ubuntu)/count],\n",
    "                       ['Rnn ubuntu '+mode, mean(superuser), SecondOrder(superuser),compteNumberOfMiss(superuser)/count],\n",
    "                    ['Neo4j PR OP '+mode, mean(neo4j_pr), SecondOrder(neo4j_pr),compteNumberOfMiss(neo4j_pr)/(count)],\n",
    "                        ['Neo4j TF_IDF '+mode, mean(neo4j_tfidf), SecondOrder(neo4j_tfidf),compteNumberOfMiss(neo4j_tfidf)/(count)],\n",
    "                   ['Neo4j PR  '+mode, mean(neo4j_pr_op), SecondOrder(neo4j_pr_op),compteNumberOfMiss(neo4j_pr_op)/(count)],\n",
    "                        ['Neo4j TF_IDF OP '+mode, mean(neo4j_tfidf_op), SecondOrder(neo4j_tfidf_op),compteNumberOfMiss(neo4j_tfidf_op)/(count)],\n",
    "                   \n",
    "                      ]\n",
    "    \n",
    "    \n",
    "    if mode == 'RECALL' :\n",
    "        data_matrix = [['Model', 'Mean'],\n",
    "                   ['Baseline '+mode, mean(baseline)],\n",
    "                   \n",
    "                   ['Rnn ubuntu '+mode, mean(ubuntu)],\n",
    "                       ['Rnn superuser '+mode, mean(superuser)],\n",
    "                    ['Neo4j PR OP'+mode, mean(neo4j_pr)],\n",
    "                        ['Neo4j TF_IDF '+mode, mean(neo4j_tfidf)],\n",
    "                       ['Neo4j PR  '+mode, mean(neo4j_pr_op)],\n",
    "                        ['Neo4j TF_IDF OP '+mode, mean(neo4j_tfidf_op)],\n",
    "                   ]\n",
    "        \n",
    "    \n",
    "    table = ff.create_table(data_matrix)\n",
    "    iplot(table, filename='Model Evaluation')"
   ]
  },
  {
   "cell_type": "markdown",
   "metadata": {},
   "source": [
    "###### Conpute results"
   ]
  },
  {
   "cell_type": "code",
   "execution_count": 8,
   "metadata": {
    "collapsed": true
   },
   "outputs": [],
   "source": [
    "def find_list_uid(myuid) :\n",
    "\n",
    "    myindex = 0\n",
    "\n",
    "    # find line :\n",
    "    for index,row in df.iterrows() :\n",
    "        if row['uid'] ==myuid :\n",
    "            myindex = index\n",
    "    \n",
    "    # initialization :\n",
    "    uid_duplicate_list = [myuid]+string_to_list(df.loc[myindex,'duplicate uid'])\n",
    "    list_temoin = list(uid_duplicate_list)\n",
    "    list_already = []\n",
    "    while len(list_temoin)>0 : \n",
    "        uid = list_temoin[0]\n",
    "        del list_temoin[0]\n",
    "        list_already.append( uid)\n",
    "        \n",
    "        for index,row in df.iterrows() :\n",
    "            if row['uid'] ==uid :\n",
    "                uid_duplicate_list += [uid]+string_to_list(df.loc[index,'duplicate uid'])\n",
    "                # update liste\n",
    "                for e in remove_duplicat(uid_duplicate_list) :\n",
    "                    if e not in list_already :\n",
    "                        list_temoin.append(e)\n",
    "                                 \n",
    "            if uid in string_to_list(row['duplicate uid']) :\n",
    "                uid_duplicate_list += [uid]+string_to_list(df.loc[index,'duplicate uid'])\n",
    "                # update liste\n",
    "                for e in remove_duplicat(uid_duplicate_list) :\n",
    "                    if e not in list_already :\n",
    "                        list_temoin.append(e)\n",
    "\n",
    "    return remove_duplicat(uid_duplicate_list)"
   ]
  },
  {
   "cell_type": "code",
   "execution_count": 9,
   "metadata": {
    "collapsed": true
   },
   "outputs": [],
   "source": [
    "recall_at = 10\n",
    "\n",
    "# Evaluation 1 : Best Ranking \n",
    "ranking_baseline = []\n",
    "ranking_rnn_ubuntu = []\n",
    "ranking_rnn_superuser = []\n",
    "ranking_neo4j_pr = []\n",
    "ranking_neo4j_tf = []\n",
    "ranking_neo4j_pr_1_11 = []\n",
    "ranking_neo4j_tf_1_11 = []\n",
    "\n",
    "# Evaluation 2 : Recall\n",
    "recall_baseline = []\n",
    "recall_rnn_ubuntu = []\n",
    "recall_rnn_superuser = []\n",
    "recall_neo4j_pr = []\n",
    "recall_neo4j_tf = []\n",
    "recall_neo4j_pr_1_11 = []\n",
    "recall_neo4j_tf_1_11 = []"
   ]
  },
  {
   "cell_type": "code",
   "execution_count": 10,
   "metadata": {
    "collapsed": false
   },
   "outputs": [
    {
     "name": "stdout",
     "output_type": "stream",
     "text": [
      "1\n",
      "2\n",
      "3\n",
      "4\n",
      "5\n",
      "6\n",
      "7\n",
      "coucou\n",
      "coucou\n",
      "coucou\n",
      "coucou\n",
      "coucou\n",
      "coucou\n",
      "coucou\n",
      "15\n",
      "16\n",
      "17\n",
      "18\n",
      "19\n",
      "20\n",
      "coucou\n",
      "coucou\n",
      "coucou\n",
      "coucou\n",
      "coucou\n",
      "26\n",
      "27\n",
      "28\n",
      "29\n",
      "30\n",
      "31\n",
      "32\n",
      "33\n",
      "34\n",
      "35\n",
      "36\n",
      "37\n",
      "38\n",
      "39\n",
      "coucou\n",
      "coucou\n",
      "coucou\n",
      "43\n",
      "44\n",
      "45\n",
      "46\n",
      "47\n",
      "48\n",
      "49\n",
      "50\n",
      "51\n",
      "52\n",
      "53\n",
      "54\n",
      "55\n",
      "56\n",
      "57\n",
      "58\n",
      "59\n",
      "60\n",
      "61\n",
      "62\n",
      "coucou\n",
      "coucou\n",
      "coucou\n",
      "coucou\n",
      "coucou\n",
      "coucou\n",
      "coucou\n",
      "70\n",
      "71\n",
      "coucou\n",
      "coucou\n",
      "coucou\n",
      "coucou\n",
      "coucou\n",
      "coucou\n",
      "coucou\n",
      "coucou\n",
      "coucou\n",
      "coucou\n",
      "coucou\n",
      "coucou\n",
      "coucou\n",
      "coucou\n",
      "coucou\n",
      "coucou\n",
      "88\n",
      "89\n",
      "90\n",
      "91\n",
      "92\n",
      "93\n",
      "94\n",
      "95\n",
      "96\n",
      "97\n",
      "98\n",
      "99\n",
      "100\n",
      "101\n",
      "102\n",
      "103\n",
      "104\n",
      "105\n",
      "106\n",
      "107\n",
      "coucou\n",
      "coucou\n",
      "coucou\n",
      "coucou\n",
      "112\n",
      "113\n",
      "114\n",
      "coucou\n",
      "coucou\n",
      "coucou\n",
      "coucou\n",
      "coucou\n",
      "120\n",
      "121\n",
      "122\n",
      "coucou\n",
      "coucou\n",
      "coucou\n",
      "coucou\n",
      "127\n",
      "128\n",
      "129\n",
      "130\n",
      "131\n",
      "coucou\n",
      "coucou\n",
      "coucou\n",
      "coucou\n",
      "coucou\n",
      "coucou\n",
      "coucou\n",
      "139\n",
      "140\n",
      "141\n",
      "142\n",
      "coucou\n",
      "coucou\n",
      "145\n",
      "146\n",
      "147\n",
      "148\n",
      "149\n",
      "coucou\n",
      "coucou\n",
      "coucou\n",
      "coucou\n",
      "coucou\n",
      "coucou\n",
      "coucou\n",
      "coucou\n",
      "coucou\n",
      "coucou\n",
      "coucou\n",
      "coucou\n",
      "coucou\n",
      "coucou\n",
      "164\n",
      "165\n",
      "166\n",
      "167\n",
      "168\n",
      "169\n",
      "170\n",
      "171\n",
      "172\n",
      "173\n",
      "174\n",
      "175\n",
      "176\n",
      "177\n",
      "178\n",
      "179\n",
      "180\n",
      "181\n",
      "182\n",
      "183\n",
      "184\n",
      "185\n",
      "186\n",
      "187\n",
      "188\n",
      "189\n",
      "190\n",
      "191\n",
      "192\n",
      "193\n",
      "194\n",
      "195\n",
      "196\n",
      "197\n",
      "198\n",
      "199\n",
      "200\n",
      "201\n",
      "202\n",
      "203\n",
      "204\n",
      "205\n",
      "206\n",
      "207\n",
      "208\n",
      "209\n",
      "210\n",
      "211\n",
      "212\n",
      "213\n",
      "coucou\n",
      "coucou\n",
      "coucou\n",
      "coucou\n",
      "coucou\n",
      "coucou\n",
      "coucou\n",
      "221\n",
      "222\n",
      "223\n",
      "224\n",
      "225\n",
      "226\n",
      "227\n",
      "228\n",
      "229\n",
      "230\n",
      "231\n",
      "232\n",
      "233\n",
      "234\n",
      "235\n",
      "coucou\n",
      "coucou\n",
      "coucou\n",
      "coucou\n",
      "coucou\n",
      "coucou\n",
      "242\n",
      "243\n",
      "244\n",
      "245\n",
      "coucou\n",
      "coucou\n",
      "coucou\n",
      "coucou\n",
      "coucou\n",
      "251\n",
      "252\n",
      "253\n",
      "254\n",
      "255\n",
      "256\n",
      "257\n",
      "258\n",
      "259\n",
      "260\n",
      "261\n",
      "262\n",
      "263\n",
      "264\n",
      "265\n",
      "266\n",
      "267\n",
      "268\n",
      "269\n",
      "270\n",
      "271\n",
      "272\n",
      "273\n",
      "coucou\n",
      "coucou\n",
      "coucou\n",
      "coucou\n",
      "278\n",
      "279\n",
      "280\n",
      "281\n",
      "282\n",
      "283\n",
      "284\n",
      "285\n",
      "286\n",
      "287\n",
      "288\n",
      "289\n",
      "290\n",
      "291\n",
      "292\n",
      "293\n",
      "coucou\n",
      "coucou\n",
      "coucou\n",
      "297\n",
      "coucou\n",
      "coucou\n",
      "300\n",
      "301\n",
      "The number of documents is :  301\n"
     ]
    }
   ],
   "source": [
    "count = 0\n",
    "for filename in os.listdir(str(os.getcwd())+'/../Predictions/baseline'):\n",
    "        count +=1\n",
    "        uid = filename[:len(filename)-4]\n",
    "    \n",
    "        ## Load the results\n",
    " \n",
    "        try :\n",
    "            df_baseline=pd.read_csv(str(os.getcwd())+'/../Predictions/baseline/'+filename)\n",
    "            df_rnn_superuser=pd.read_csv(str(os.getcwd())+'/../Predictions/RNN_superuser/'+filename)\n",
    "            df_rnn_ubuntu=pd.read_csv(str(os.getcwd())+'/../Predictions/RNN_ubuntu/'+filename)\n",
    "            df_neo4j_pr=pd.read_csv(str(os.getcwd())+'/../Predictions/PR/'+filename)\n",
    "            df_neo4j_tfidf=pd.read_csv(str(os.getcwd())+'/../Predictions/TFIDF/'+filename)\n",
    "\n",
    "            df_neo4j_tfidf_1_11=pd.read_csv(str(os.getcwd())+'/../Predictions/TFIDF_11_1/'+filename)\n",
    "            df_neo4j_pr_1_11=pd.read_csv(str(os.getcwd())+'/../Predictions/PR_11_1/'+filename)\n",
    "\n",
    "\n",
    "            uid_list =find_list_uid(uid)\n",
    "\n",
    "            rank_first_match_baseline = []\n",
    "            rank_first_match_rnn_superuser =[]\n",
    "            rank_first_match_rnn_ubuntu =[]\n",
    "            rank_first_match_neo4j_pr =[] \n",
    "            rank_first_match_neo4j_tfidf =[]\n",
    "            rank_first_match_neo4j_pr_1_11 =[]\n",
    "            rank_first_match_neo4j_tfidf_1_11 =[]\n",
    "\n",
    "            print(count)\n",
    "\n",
    "            #### Best Ranking mesure\n",
    "\n",
    "            for ref_uid in uid_list  :\n",
    "                # BASELINE\n",
    "                rank_first_match_baseline.append(find_first_match(df_baseline,ref_uid,recall_at))\n",
    "\n",
    "                # Neo4j_pr\n",
    "                rank_first_match_neo4j_pr.append(find_first_match(df_neo4j_pr,ref_uid,recall_at))\n",
    "                rank_first_match_neo4j_pr_1_11.append(find_first_match(df_neo4j_pr_1_11,ref_uid,recall_at))\n",
    "\n",
    "\n",
    "                # Neo4j_tfidf\n",
    "                rank_first_match_neo4j_tfidf.append(find_first_match(df_neo4j_tfidf,ref_uid,recall_at))\n",
    "                rank_first_match_neo4j_tfidf_1_11.append(find_first_match(df_neo4j_tfidf_1_11,ref_uid,recall_at))\n",
    "\n",
    "                # RNN superuser\n",
    "                rank_first_match_rnn_superuser.append(find_first_match(df_rnn_superuser,ref_uid,recall_at))\n",
    "\n",
    "                # RNN ubuntu\n",
    "                rank_first_match_rnn_ubuntu.append(find_first_match(df_rnn_ubuntu,ref_uid,recall_at))\n",
    "\n",
    "                try : \n",
    "\n",
    "                    # Evaluation 1 : Best Ranking \n",
    "                    best_ranking_baseline = min(rank_first_match_baseline)\n",
    "                    best_ranking_rnn_superuser = min(rank_first_match_rnn_superuser)\n",
    "                    best_ranking_rnn_ubuntu = min(rank_first_match_rnn_ubuntu)\n",
    "                    best_ranking_neo4j_pr = min(rank_first_match_neo4j_pr)\n",
    "                    best_ranking_neo4j_tf = min(rank_first_match_neo4j_tfidf)\n",
    "\n",
    "                    best_ranking_neo4j_pr_1_11 = min(rank_first_match_neo4j_pr_1_11)\n",
    "                    best_ranking_neo4j_tf_1_11 = min(rank_first_match_neo4j_tfidf_1_11)\n",
    "\n",
    "\n",
    "                except ValueError :\n",
    "                    # Error I cannot identify\n",
    "                    print('Error')\n",
    "                    best_ranking_baseline = recall_at + 3 \n",
    "                    best_ranking_rnn_superuser = recall_at + 3\n",
    "                    best_ranking_rnn_ubuntu =recall_at + 3\n",
    "                    best_ranking_neo4j_pr = recall_at + 3\n",
    "                    best_ranking_neo4j_tf = recall_at + 3\n",
    "\n",
    "                    best_ranking_neo4j_pr_1_11 = recall_at + 3\n",
    "                    best_ranking_neo4j_tf_1_11 = recall_at + 3\n",
    "\n",
    "\n",
    "            ranking_baseline.append(best_ranking_baseline)\n",
    "            ranking_rnn_superuser.append(best_ranking_rnn_superuser)\n",
    "            ranking_rnn_ubuntu.append(best_ranking_rnn_ubuntu)\n",
    "            ranking_neo4j_pr.append(best_ranking_neo4j_pr)\n",
    "            ranking_neo4j_tf.append(best_ranking_neo4j_tf)\n",
    "\n",
    "            # optimized models\n",
    "            ranking_neo4j_pr_1_11.append(best_ranking_neo4j_pr_1_11)\n",
    "            ranking_neo4j_tf_1_11.append(best_ranking_neo4j_tf_1_11)\n",
    "\n",
    "\n",
    "            ### Recall mesure :\n",
    "            recall_baseline.append(compute_recall(df_baseline['uid'].tolist()[0:9],uid_list,recall_at))\n",
    "            recall_rnn_ubuntu.append(compute_recall(df_rnn_ubuntu['uid'].tolist()[0:9],uid_list,recall_at))\n",
    "            recall_rnn_superuser.append(compute_recall(df_rnn_superuser['uid'].tolist()[0:9],uid_list,recall_at))\n",
    "            recall_neo4j_pr.append(compute_recall(df_neo4j_pr['uid'].tolist()[0:9],uid_list,recall_at))\n",
    "            recall_neo4j_tf.append(compute_recall(df_neo4j_tfidf['uid'].tolist()[0:9],uid_list,recall_at))\n",
    "\n",
    "            recall_neo4j_pr_1_11.append(compute_recall(df_neo4j_pr_1_11['uid'].tolist()[0:9],uid_list,recall_at))\n",
    "            recall_neo4j_tf_1_11.append(compute_recall(df_neo4j_tfidf_1_11['uid'].tolist()[0:9],uid_list,recall_at))\n",
    "        except FileNotFoundError :\n",
    "            print('coucou')\n",
    "\n",
    "        \n",
    "        \n",
    "\n",
    "print('The number of documents is : ', count)"
   ]
  },
  {
   "cell_type": "markdown",
   "metadata": {},
   "source": [
    "###### Evaluation 1 : Best ranking"
   ]
  },
  {
   "cell_type": "code",
   "execution_count": 11,
   "metadata": {
    "collapsed": false
   },
   "outputs": [],
   "source": [
    "display_graph(ranking_baseline,ranking_rnn_superuser,ranking_rnn_ubuntu,ranking_neo4j_pr,ranking_neo4j_tf,ranking_neo4j_pr_1_11,ranking_neo4j_tf_1_11 ,mode='BEST RANKING')"
   ]
  },
  {
   "cell_type": "code",
   "execution_count": 12,
   "metadata": {
    "collapsed": false,
    "scrolled": true
   },
   "outputs": [
    {
     "data": {
      "application/vnd.plotly.v1+json": {
       "data": [
        {
         "colorscale": [
          [
           0,
           "#00083e"
          ],
          [
           0.5,
           "#ededee"
          ],
          [
           1,
           "#ffffff"
          ]
         ],
         "hoverinfo": "none",
         "opacity": 0.75,
         "showscale": false,
         "type": "heatmap",
         "z": [
          [
           0,
           0,
           0,
           0
          ],
          [
           0.5,
           0.5,
           0.5,
           0.5
          ],
          [
           1,
           1,
           1,
           1
          ],
          [
           0.5,
           0.5,
           0.5,
           0.5
          ],
          [
           1,
           1,
           1,
           1
          ],
          [
           0.5,
           0.5,
           0.5,
           0.5
          ],
          [
           1,
           1,
           1,
           1
          ],
          [
           0.5,
           0.5,
           0.5,
           0.5
          ]
         ]
        }
       ],
       "layout": {
        "annotations": [
         {
          "align": "left",
          "font": {
           "color": "#ffffff"
          },
          "showarrow": false,
          "text": "<b>Model</b>",
          "x": -0.45,
          "xanchor": "left",
          "xref": "x1",
          "y": 0,
          "yref": "y1"
         },
         {
          "align": "left",
          "font": {
           "color": "#ffffff"
          },
          "showarrow": false,
          "text": "<b>Mean</b>",
          "x": 0.55,
          "xanchor": "left",
          "xref": "x1",
          "y": 0,
          "yref": "y1"
         },
         {
          "align": "left",
          "font": {
           "color": "#ffffff"
          },
          "showarrow": false,
          "text": "<b>Second Order Moment</b>",
          "x": 1.55,
          "xanchor": "left",
          "xref": "x1",
          "y": 0,
          "yref": "y1"
         },
         {
          "align": "left",
          "font": {
           "color": "#ffffff"
          },
          "showarrow": false,
          "text": "<b>Number of miss (%)</b>",
          "x": 2.55,
          "xanchor": "left",
          "xref": "x1",
          "y": 0,
          "yref": "y1"
         },
         {
          "align": "left",
          "font": {
           "color": "#000000"
          },
          "showarrow": false,
          "text": "Baseline BEST RANKING",
          "x": -0.45,
          "xanchor": "left",
          "xref": "x1",
          "y": 1,
          "yref": "y1"
         },
         {
          "align": "left",
          "font": {
           "color": "#000000"
          },
          "showarrow": false,
          "text": "2.5",
          "x": 0.55,
          "xanchor": "left",
          "xref": "x1",
          "y": 1,
          "yref": "y1"
         },
         {
          "align": "left",
          "font": {
           "color": "#000000"
          },
          "showarrow": false,
          "text": "12.7261904762",
          "x": 1.55,
          "xanchor": "left",
          "xref": "x1",
          "y": 1,
          "yref": "y1"
         },
         {
          "align": "left",
          "font": {
           "color": "#000000"
          },
          "showarrow": false,
          "text": "0.16",
          "x": 2.55,
          "xanchor": "left",
          "xref": "x1",
          "y": 1,
          "yref": "y1"
         },
         {
          "align": "left",
          "font": {
           "color": "#000000"
          },
          "showarrow": false,
          "text": "Rnn superuser BEST RANKING",
          "x": -0.45,
          "xanchor": "left",
          "xref": "x1",
          "y": 2,
          "yref": "y1"
         },
         {
          "align": "left",
          "font": {
           "color": "#000000"
          },
          "showarrow": false,
          "text": "4.61016949153",
          "x": 0.55,
          "xanchor": "left",
          "xref": "x1",
          "y": 2,
          "yref": "y1"
         },
         {
          "align": "left",
          "font": {
           "color": "#000000"
          },
          "showarrow": false,
          "text": "27.6949152542",
          "x": 1.55,
          "xanchor": "left",
          "xref": "x1",
          "y": 2,
          "yref": "y1"
         },
         {
          "align": "left",
          "font": {
           "color": "#000000"
          },
          "showarrow": false,
          "text": "0.705",
          "x": 2.55,
          "xanchor": "left",
          "xref": "x1",
          "y": 2,
          "yref": "y1"
         },
         {
          "align": "left",
          "font": {
           "color": "#000000"
          },
          "showarrow": false,
          "text": "Rnn ubuntu BEST RANKING",
          "x": -0.45,
          "xanchor": "left",
          "xref": "x1",
          "y": 3,
          "yref": "y1"
         },
         {
          "align": "left",
          "font": {
           "color": "#000000"
          },
          "showarrow": false,
          "text": "6.69230769231",
          "x": 0.55,
          "xanchor": "left",
          "xref": "x1",
          "y": 3,
          "yref": "y1"
         },
         {
          "align": "left",
          "font": {
           "color": "#000000"
          },
          "showarrow": false,
          "text": "53.3076923077",
          "x": 1.55,
          "xanchor": "left",
          "xref": "x1",
          "y": 3,
          "yref": "y1"
         },
         {
          "align": "left",
          "font": {
           "color": "#000000"
          },
          "showarrow": false,
          "text": "0.87",
          "x": 2.55,
          "xanchor": "left",
          "xref": "x1",
          "y": 3,
          "yref": "y1"
         },
         {
          "align": "left",
          "font": {
           "color": "#000000"
          },
          "showarrow": false,
          "text": "Neo4j PR OP BEST RANKING",
          "x": -0.45,
          "xanchor": "left",
          "xref": "x1",
          "y": 4,
          "yref": "y1"
         },
         {
          "align": "left",
          "font": {
           "color": "#000000"
          },
          "showarrow": false,
          "text": "2.40366972477",
          "x": 0.55,
          "xanchor": "left",
          "xref": "x1",
          "y": 4,
          "yref": "y1"
         },
         {
          "align": "left",
          "font": {
           "color": "#000000"
          },
          "showarrow": false,
          "text": "12.6422018349",
          "x": 1.55,
          "xanchor": "left",
          "xref": "x1",
          "y": 4,
          "yref": "y1"
         },
         {
          "align": "left",
          "font": {
           "color": "#000000"
          },
          "showarrow": false,
          "text": "0.2275",
          "x": 2.55,
          "xanchor": "left",
          "xref": "x1",
          "y": 4,
          "yref": "y1"
         },
         {
          "align": "left",
          "font": {
           "color": "#000000"
          },
          "showarrow": false,
          "text": "Neo4j TF_IDF BEST RANKING",
          "x": -0.45,
          "xanchor": "left",
          "xref": "x1",
          "y": 5,
          "yref": "y1"
         },
         {
          "align": "left",
          "font": {
           "color": "#000000"
          },
          "showarrow": false,
          "text": "3.20388349515",
          "x": 0.55,
          "xanchor": "left",
          "xref": "x1",
          "y": 5,
          "yref": "y1"
         },
         {
          "align": "left",
          "font": {
           "color": "#000000"
          },
          "showarrow": false,
          "text": "20.6601941748",
          "x": 1.55,
          "xanchor": "left",
          "xref": "x1",
          "y": 5,
          "yref": "y1"
         },
         {
          "align": "left",
          "font": {
           "color": "#000000"
          },
          "showarrow": false,
          "text": "0.2425",
          "x": 2.55,
          "xanchor": "left",
          "xref": "x1",
          "y": 5,
          "yref": "y1"
         },
         {
          "align": "left",
          "font": {
           "color": "#000000"
          },
          "showarrow": false,
          "text": "Neo4j PR  BEST RANKING",
          "x": -0.45,
          "xanchor": "left",
          "xref": "x1",
          "y": 6,
          "yref": "y1"
         },
         {
          "align": "left",
          "font": {
           "color": "#000000"
          },
          "showarrow": false,
          "text": "2.51086956522",
          "x": 0.55,
          "xanchor": "left",
          "xref": "x1",
          "y": 6,
          "yref": "y1"
         },
         {
          "align": "left",
          "font": {
           "color": "#000000"
          },
          "showarrow": false,
          "text": "13.0326086957",
          "x": 1.55,
          "xanchor": "left",
          "xref": "x1",
          "y": 6,
          "yref": "y1"
         },
         {
          "align": "left",
          "font": {
           "color": "#000000"
          },
          "showarrow": false,
          "text": "0.27",
          "x": 2.55,
          "xanchor": "left",
          "xref": "x1",
          "y": 6,
          "yref": "y1"
         },
         {
          "align": "left",
          "font": {
           "color": "#000000"
          },
          "showarrow": false,
          "text": "Neo4j TF_IDF OP BEST RANKING",
          "x": -0.45,
          "xanchor": "left",
          "xref": "x1",
          "y": 7,
          "yref": "y1"
         },
         {
          "align": "left",
          "font": {
           "color": "#000000"
          },
          "showarrow": false,
          "text": "2.65217391304",
          "x": 0.55,
          "xanchor": "left",
          "xref": "x1",
          "y": 7,
          "yref": "y1"
         },
         {
          "align": "left",
          "font": {
           "color": "#000000"
          },
          "showarrow": false,
          "text": "15.9739130435",
          "x": 1.55,
          "xanchor": "left",
          "xref": "x1",
          "y": 7,
          "yref": "y1"
         },
         {
          "align": "left",
          "font": {
           "color": "#000000"
          },
          "showarrow": false,
          "text": "0.2125",
          "x": 2.55,
          "xanchor": "left",
          "xref": "x1",
          "y": 7,
          "yref": "y1"
         }
        ],
        "height": 290,
        "margin": {
         "b": 0,
         "l": 0,
         "r": 0,
         "t": 0
        },
        "xaxis": {
         "dtick": 1,
         "gridwidth": 2,
         "showticklabels": false,
         "tick0": -0.5,
         "ticks": "",
         "zeroline": false
        },
        "yaxis": {
         "autorange": "reversed",
         "dtick": 1,
         "gridwidth": 2,
         "showticklabels": false,
         "tick0": 0.5,
         "ticks": "",
         "zeroline": false
        }
       }
      },
      "text/html": [
       "<div id=\"c2590d65-b2b3-4e3d-b31d-d574207abf83\" style=\"height: 290px; width: 100%;\" class=\"plotly-graph-div\"></div><script type=\"text/javascript\">require([\"plotly\"], function(Plotly) { window.PLOTLYENV=window.PLOTLYENV || {};window.PLOTLYENV.BASE_URL=\"https://plot.ly\";Plotly.newPlot(\"c2590d65-b2b3-4e3d-b31d-d574207abf83\", [{\"showscale\": false, \"hoverinfo\": \"none\", \"z\": [[0, 0, 0, 0], [0.5, 0.5, 0.5, 0.5], [1, 1, 1, 1], [0.5, 0.5, 0.5, 0.5], [1, 1, 1, 1], [0.5, 0.5, 0.5, 0.5], [1, 1, 1, 1], [0.5, 0.5, 0.5, 0.5]], \"colorscale\": [[0, \"#00083e\"], [0.5, \"#ededee\"], [1, \"#ffffff\"]], \"type\": \"heatmap\", \"opacity\": 0.75}], {\"xaxis\": {\"showticklabels\": false, \"tick0\": -0.5, \"dtick\": 1, \"gridwidth\": 2, \"ticks\": \"\", \"zeroline\": false}, \"yaxis\": {\"showticklabels\": false, \"tick0\": 0.5, \"dtick\": 1, \"gridwidth\": 2, \"ticks\": \"\", \"autorange\": \"reversed\", \"zeroline\": false}, \"annotations\": [{\"align\": \"left\", \"showarrow\": false, \"y\": 0, \"text\": \"<b>Model</b>\", \"xanchor\": \"left\", \"yref\": \"y1\", \"x\": -0.45, \"xref\": \"x1\", \"font\": {\"color\": \"#ffffff\"}}, {\"align\": \"left\", \"showarrow\": false, \"y\": 0, \"text\": \"<b>Mean</b>\", \"xanchor\": \"left\", \"yref\": \"y1\", \"x\": 0.55, \"xref\": \"x1\", \"font\": {\"color\": \"#ffffff\"}}, {\"align\": \"left\", \"showarrow\": false, \"y\": 0, \"text\": \"<b>Second Order Moment</b>\", \"xanchor\": \"left\", \"yref\": \"y1\", \"x\": 1.55, \"xref\": \"x1\", \"font\": {\"color\": \"#ffffff\"}}, {\"align\": \"left\", \"showarrow\": false, \"y\": 0, \"text\": \"<b>Number of miss (%)</b>\", \"xanchor\": \"left\", \"yref\": \"y1\", \"x\": 2.55, \"xref\": \"x1\", \"font\": {\"color\": \"#ffffff\"}}, {\"align\": \"left\", \"showarrow\": false, \"y\": 1, \"text\": \"Baseline BEST RANKING\", \"xanchor\": \"left\", \"yref\": \"y1\", \"x\": -0.45, \"xref\": \"x1\", \"font\": {\"color\": \"#000000\"}}, {\"align\": \"left\", \"showarrow\": false, \"y\": 1, \"text\": \"2.5\", \"xanchor\": \"left\", \"yref\": \"y1\", \"x\": 0.55, \"xref\": \"x1\", \"font\": {\"color\": \"#000000\"}}, {\"align\": \"left\", \"showarrow\": false, \"y\": 1, \"text\": \"12.7261904762\", \"xanchor\": \"left\", \"yref\": \"y1\", \"x\": 1.55, \"xref\": \"x1\", \"font\": {\"color\": \"#000000\"}}, {\"align\": \"left\", \"showarrow\": false, \"y\": 1, \"text\": \"0.16\", \"xanchor\": \"left\", \"yref\": \"y1\", \"x\": 2.55, \"xref\": \"x1\", \"font\": {\"color\": \"#000000\"}}, {\"align\": \"left\", \"showarrow\": false, \"y\": 2, \"text\": \"Rnn superuser BEST RANKING\", \"xanchor\": \"left\", \"yref\": \"y1\", \"x\": -0.45, \"xref\": \"x1\", \"font\": {\"color\": \"#000000\"}}, {\"align\": \"left\", \"showarrow\": false, \"y\": 2, \"text\": \"4.61016949153\", \"xanchor\": \"left\", \"yref\": \"y1\", \"x\": 0.55, \"xref\": \"x1\", \"font\": {\"color\": \"#000000\"}}, {\"align\": \"left\", \"showarrow\": false, \"y\": 2, \"text\": \"27.6949152542\", \"xanchor\": \"left\", \"yref\": \"y1\", \"x\": 1.55, \"xref\": \"x1\", \"font\": {\"color\": \"#000000\"}}, {\"align\": \"left\", \"showarrow\": false, \"y\": 2, \"text\": \"0.705\", \"xanchor\": \"left\", \"yref\": \"y1\", \"x\": 2.55, \"xref\": \"x1\", \"font\": {\"color\": \"#000000\"}}, {\"align\": \"left\", \"showarrow\": false, \"y\": 3, \"text\": \"Rnn ubuntu BEST RANKING\", \"xanchor\": \"left\", \"yref\": \"y1\", \"x\": -0.45, \"xref\": \"x1\", \"font\": {\"color\": \"#000000\"}}, {\"align\": \"left\", \"showarrow\": false, \"y\": 3, \"text\": \"6.69230769231\", \"xanchor\": \"left\", \"yref\": \"y1\", \"x\": 0.55, \"xref\": \"x1\", \"font\": {\"color\": \"#000000\"}}, {\"align\": \"left\", \"showarrow\": false, \"y\": 3, \"text\": \"53.3076923077\", \"xanchor\": \"left\", \"yref\": \"y1\", \"x\": 1.55, \"xref\": \"x1\", \"font\": {\"color\": \"#000000\"}}, {\"align\": \"left\", \"showarrow\": false, \"y\": 3, \"text\": \"0.87\", \"xanchor\": \"left\", \"yref\": \"y1\", \"x\": 2.55, \"xref\": \"x1\", \"font\": {\"color\": \"#000000\"}}, {\"align\": \"left\", \"showarrow\": false, \"y\": 4, \"text\": \"Neo4j PR OP BEST RANKING\", \"xanchor\": \"left\", \"yref\": \"y1\", \"x\": -0.45, \"xref\": \"x1\", \"font\": {\"color\": \"#000000\"}}, {\"align\": \"left\", \"showarrow\": false, \"y\": 4, \"text\": \"2.40366972477\", \"xanchor\": \"left\", \"yref\": \"y1\", \"x\": 0.55, \"xref\": \"x1\", \"font\": {\"color\": \"#000000\"}}, {\"align\": \"left\", \"showarrow\": false, \"y\": 4, \"text\": \"12.6422018349\", \"xanchor\": \"left\", \"yref\": \"y1\", \"x\": 1.55, \"xref\": \"x1\", \"font\": {\"color\": \"#000000\"}}, {\"align\": \"left\", \"showarrow\": false, \"y\": 4, \"text\": \"0.2275\", \"xanchor\": \"left\", \"yref\": \"y1\", \"x\": 2.55, \"xref\": \"x1\", \"font\": {\"color\": \"#000000\"}}, {\"align\": \"left\", \"showarrow\": false, \"y\": 5, \"text\": \"Neo4j TF_IDF BEST RANKING\", \"xanchor\": \"left\", \"yref\": \"y1\", \"x\": -0.45, \"xref\": \"x1\", \"font\": {\"color\": \"#000000\"}}, {\"align\": \"left\", \"showarrow\": false, \"y\": 5, \"text\": \"3.20388349515\", \"xanchor\": \"left\", \"yref\": \"y1\", \"x\": 0.55, \"xref\": \"x1\", \"font\": {\"color\": \"#000000\"}}, {\"align\": \"left\", \"showarrow\": false, \"y\": 5, \"text\": \"20.6601941748\", \"xanchor\": \"left\", \"yref\": \"y1\", \"x\": 1.55, \"xref\": \"x1\", \"font\": {\"color\": \"#000000\"}}, {\"align\": \"left\", \"showarrow\": false, \"y\": 5, \"text\": \"0.2425\", \"xanchor\": \"left\", \"yref\": \"y1\", \"x\": 2.55, \"xref\": \"x1\", \"font\": {\"color\": \"#000000\"}}, {\"align\": \"left\", \"showarrow\": false, \"y\": 6, \"text\": \"Neo4j PR  BEST RANKING\", \"xanchor\": \"left\", \"yref\": \"y1\", \"x\": -0.45, \"xref\": \"x1\", \"font\": {\"color\": \"#000000\"}}, {\"align\": \"left\", \"showarrow\": false, \"y\": 6, \"text\": \"2.51086956522\", \"xanchor\": \"left\", \"yref\": \"y1\", \"x\": 0.55, \"xref\": \"x1\", \"font\": {\"color\": \"#000000\"}}, {\"align\": \"left\", \"showarrow\": false, \"y\": 6, \"text\": \"13.0326086957\", \"xanchor\": \"left\", \"yref\": \"y1\", \"x\": 1.55, \"xref\": \"x1\", \"font\": {\"color\": \"#000000\"}}, {\"align\": \"left\", \"showarrow\": false, \"y\": 6, \"text\": \"0.27\", \"xanchor\": \"left\", \"yref\": \"y1\", \"x\": 2.55, \"xref\": \"x1\", \"font\": {\"color\": \"#000000\"}}, {\"align\": \"left\", \"showarrow\": false, \"y\": 7, \"text\": \"Neo4j TF_IDF OP BEST RANKING\", \"xanchor\": \"left\", \"yref\": \"y1\", \"x\": -0.45, \"xref\": \"x1\", \"font\": {\"color\": \"#000000\"}}, {\"align\": \"left\", \"showarrow\": false, \"y\": 7, \"text\": \"2.65217391304\", \"xanchor\": \"left\", \"yref\": \"y1\", \"x\": 0.55, \"xref\": \"x1\", \"font\": {\"color\": \"#000000\"}}, {\"align\": \"left\", \"showarrow\": false, \"y\": 7, \"text\": \"15.9739130435\", \"xanchor\": \"left\", \"yref\": \"y1\", \"x\": 1.55, \"xref\": \"x1\", \"font\": {\"color\": \"#000000\"}}, {\"align\": \"left\", \"showarrow\": false, \"y\": 7, \"text\": \"0.2125\", \"xanchor\": \"left\", \"yref\": \"y1\", \"x\": 2.55, \"xref\": \"x1\", \"font\": {\"color\": \"#000000\"}}], \"margin\": {\"r\": 0, \"t\": 0, \"b\": 0, \"l\": 0}, \"height\": 290}, {\"showLink\": true, \"linkText\": \"Export to plot.ly\"})});</script>"
      ],
      "text/vnd.plotly.v1+html": [
       "<div id=\"c2590d65-b2b3-4e3d-b31d-d574207abf83\" style=\"height: 290px; width: 100%;\" class=\"plotly-graph-div\"></div><script type=\"text/javascript\">require([\"plotly\"], function(Plotly) { window.PLOTLYENV=window.PLOTLYENV || {};window.PLOTLYENV.BASE_URL=\"https://plot.ly\";Plotly.newPlot(\"c2590d65-b2b3-4e3d-b31d-d574207abf83\", [{\"showscale\": false, \"hoverinfo\": \"none\", \"z\": [[0, 0, 0, 0], [0.5, 0.5, 0.5, 0.5], [1, 1, 1, 1], [0.5, 0.5, 0.5, 0.5], [1, 1, 1, 1], [0.5, 0.5, 0.5, 0.5], [1, 1, 1, 1], [0.5, 0.5, 0.5, 0.5]], \"colorscale\": [[0, \"#00083e\"], [0.5, \"#ededee\"], [1, \"#ffffff\"]], \"type\": \"heatmap\", \"opacity\": 0.75}], {\"xaxis\": {\"showticklabels\": false, \"tick0\": -0.5, \"dtick\": 1, \"gridwidth\": 2, \"ticks\": \"\", \"zeroline\": false}, \"yaxis\": {\"showticklabels\": false, \"tick0\": 0.5, \"dtick\": 1, \"gridwidth\": 2, \"ticks\": \"\", \"autorange\": \"reversed\", \"zeroline\": false}, \"annotations\": [{\"align\": \"left\", \"showarrow\": false, \"y\": 0, \"text\": \"<b>Model</b>\", \"xanchor\": \"left\", \"yref\": \"y1\", \"x\": -0.45, \"xref\": \"x1\", \"font\": {\"color\": \"#ffffff\"}}, {\"align\": \"left\", \"showarrow\": false, \"y\": 0, \"text\": \"<b>Mean</b>\", \"xanchor\": \"left\", \"yref\": \"y1\", \"x\": 0.55, \"xref\": \"x1\", \"font\": {\"color\": \"#ffffff\"}}, {\"align\": \"left\", \"showarrow\": false, \"y\": 0, \"text\": \"<b>Second Order Moment</b>\", \"xanchor\": \"left\", \"yref\": \"y1\", \"x\": 1.55, \"xref\": \"x1\", \"font\": {\"color\": \"#ffffff\"}}, {\"align\": \"left\", \"showarrow\": false, \"y\": 0, \"text\": \"<b>Number of miss (%)</b>\", \"xanchor\": \"left\", \"yref\": \"y1\", \"x\": 2.55, \"xref\": \"x1\", \"font\": {\"color\": \"#ffffff\"}}, {\"align\": \"left\", \"showarrow\": false, \"y\": 1, \"text\": \"Baseline BEST RANKING\", \"xanchor\": \"left\", \"yref\": \"y1\", \"x\": -0.45, \"xref\": \"x1\", \"font\": {\"color\": \"#000000\"}}, {\"align\": \"left\", \"showarrow\": false, \"y\": 1, \"text\": \"2.5\", \"xanchor\": \"left\", \"yref\": \"y1\", \"x\": 0.55, \"xref\": \"x1\", \"font\": {\"color\": \"#000000\"}}, {\"align\": \"left\", \"showarrow\": false, \"y\": 1, \"text\": \"12.7261904762\", \"xanchor\": \"left\", \"yref\": \"y1\", \"x\": 1.55, \"xref\": \"x1\", \"font\": {\"color\": \"#000000\"}}, {\"align\": \"left\", \"showarrow\": false, \"y\": 1, \"text\": \"0.16\", \"xanchor\": \"left\", \"yref\": \"y1\", \"x\": 2.55, \"xref\": \"x1\", \"font\": {\"color\": \"#000000\"}}, {\"align\": \"left\", \"showarrow\": false, \"y\": 2, \"text\": \"Rnn superuser BEST RANKING\", \"xanchor\": \"left\", \"yref\": \"y1\", \"x\": -0.45, \"xref\": \"x1\", \"font\": {\"color\": \"#000000\"}}, {\"align\": \"left\", \"showarrow\": false, \"y\": 2, \"text\": \"4.61016949153\", \"xanchor\": \"left\", \"yref\": \"y1\", \"x\": 0.55, \"xref\": \"x1\", \"font\": {\"color\": \"#000000\"}}, {\"align\": \"left\", \"showarrow\": false, \"y\": 2, \"text\": \"27.6949152542\", \"xanchor\": \"left\", \"yref\": \"y1\", \"x\": 1.55, \"xref\": \"x1\", \"font\": {\"color\": \"#000000\"}}, {\"align\": \"left\", \"showarrow\": false, \"y\": 2, \"text\": \"0.705\", \"xanchor\": \"left\", \"yref\": \"y1\", \"x\": 2.55, \"xref\": \"x1\", \"font\": {\"color\": \"#000000\"}}, {\"align\": \"left\", \"showarrow\": false, \"y\": 3, \"text\": \"Rnn ubuntu BEST RANKING\", \"xanchor\": \"left\", \"yref\": \"y1\", \"x\": -0.45, \"xref\": \"x1\", \"font\": {\"color\": \"#000000\"}}, {\"align\": \"left\", \"showarrow\": false, \"y\": 3, \"text\": \"6.69230769231\", \"xanchor\": \"left\", \"yref\": \"y1\", \"x\": 0.55, \"xref\": \"x1\", \"font\": {\"color\": \"#000000\"}}, {\"align\": \"left\", \"showarrow\": false, \"y\": 3, \"text\": \"53.3076923077\", \"xanchor\": \"left\", \"yref\": \"y1\", \"x\": 1.55, \"xref\": \"x1\", \"font\": {\"color\": \"#000000\"}}, {\"align\": \"left\", \"showarrow\": false, \"y\": 3, \"text\": \"0.87\", \"xanchor\": \"left\", \"yref\": \"y1\", \"x\": 2.55, \"xref\": \"x1\", \"font\": {\"color\": \"#000000\"}}, {\"align\": \"left\", \"showarrow\": false, \"y\": 4, \"text\": \"Neo4j PR OP BEST RANKING\", \"xanchor\": \"left\", \"yref\": \"y1\", \"x\": -0.45, \"xref\": \"x1\", \"font\": {\"color\": \"#000000\"}}, {\"align\": \"left\", \"showarrow\": false, \"y\": 4, \"text\": \"2.40366972477\", \"xanchor\": \"left\", \"yref\": \"y1\", \"x\": 0.55, \"xref\": \"x1\", \"font\": {\"color\": \"#000000\"}}, {\"align\": \"left\", \"showarrow\": false, \"y\": 4, \"text\": \"12.6422018349\", \"xanchor\": \"left\", \"yref\": \"y1\", \"x\": 1.55, \"xref\": \"x1\", \"font\": {\"color\": \"#000000\"}}, {\"align\": \"left\", \"showarrow\": false, \"y\": 4, \"text\": \"0.2275\", \"xanchor\": \"left\", \"yref\": \"y1\", \"x\": 2.55, \"xref\": \"x1\", \"font\": {\"color\": \"#000000\"}}, {\"align\": \"left\", \"showarrow\": false, \"y\": 5, \"text\": \"Neo4j TF_IDF BEST RANKING\", \"xanchor\": \"left\", \"yref\": \"y1\", \"x\": -0.45, \"xref\": \"x1\", \"font\": {\"color\": \"#000000\"}}, {\"align\": \"left\", \"showarrow\": false, \"y\": 5, \"text\": \"3.20388349515\", \"xanchor\": \"left\", \"yref\": \"y1\", \"x\": 0.55, \"xref\": \"x1\", \"font\": {\"color\": \"#000000\"}}, {\"align\": \"left\", \"showarrow\": false, \"y\": 5, \"text\": \"20.6601941748\", \"xanchor\": \"left\", \"yref\": \"y1\", \"x\": 1.55, \"xref\": \"x1\", \"font\": {\"color\": \"#000000\"}}, {\"align\": \"left\", \"showarrow\": false, \"y\": 5, \"text\": \"0.2425\", \"xanchor\": \"left\", \"yref\": \"y1\", \"x\": 2.55, \"xref\": \"x1\", \"font\": {\"color\": \"#000000\"}}, {\"align\": \"left\", \"showarrow\": false, \"y\": 6, \"text\": \"Neo4j PR  BEST RANKING\", \"xanchor\": \"left\", \"yref\": \"y1\", \"x\": -0.45, \"xref\": \"x1\", \"font\": {\"color\": \"#000000\"}}, {\"align\": \"left\", \"showarrow\": false, \"y\": 6, \"text\": \"2.51086956522\", \"xanchor\": \"left\", \"yref\": \"y1\", \"x\": 0.55, \"xref\": \"x1\", \"font\": {\"color\": \"#000000\"}}, {\"align\": \"left\", \"showarrow\": false, \"y\": 6, \"text\": \"13.0326086957\", \"xanchor\": \"left\", \"yref\": \"y1\", \"x\": 1.55, \"xref\": \"x1\", \"font\": {\"color\": \"#000000\"}}, {\"align\": \"left\", \"showarrow\": false, \"y\": 6, \"text\": \"0.27\", \"xanchor\": \"left\", \"yref\": \"y1\", \"x\": 2.55, \"xref\": \"x1\", \"font\": {\"color\": \"#000000\"}}, {\"align\": \"left\", \"showarrow\": false, \"y\": 7, \"text\": \"Neo4j TF_IDF OP BEST RANKING\", \"xanchor\": \"left\", \"yref\": \"y1\", \"x\": -0.45, \"xref\": \"x1\", \"font\": {\"color\": \"#000000\"}}, {\"align\": \"left\", \"showarrow\": false, \"y\": 7, \"text\": \"2.65217391304\", \"xanchor\": \"left\", \"yref\": \"y1\", \"x\": 0.55, \"xref\": \"x1\", \"font\": {\"color\": \"#000000\"}}, {\"align\": \"left\", \"showarrow\": false, \"y\": 7, \"text\": \"15.9739130435\", \"xanchor\": \"left\", \"yref\": \"y1\", \"x\": 1.55, \"xref\": \"x1\", \"font\": {\"color\": \"#000000\"}}, {\"align\": \"left\", \"showarrow\": false, \"y\": 7, \"text\": \"0.2125\", \"xanchor\": \"left\", \"yref\": \"y1\", \"x\": 2.55, \"xref\": \"x1\", \"font\": {\"color\": \"#000000\"}}], \"margin\": {\"r\": 0, \"t\": 0, \"b\": 0, \"l\": 0}, \"height\": 290}, {\"showLink\": true, \"linkText\": \"Export to plot.ly\"})});</script>"
      ]
     },
     "metadata": {},
     "output_type": "display_data"
    }
   ],
   "source": [
    "display_statistic_table(ranking_baseline,ranking_rnn_superuser,ranking_rnn_ubuntu,ranking_neo4j_pr,ranking_neo4j_tf,ranking_neo4j_pr_1_11,ranking_neo4j_tf_1_11, mode='BEST RANKING')"
   ]
  },
  {
   "cell_type": "markdown",
   "metadata": {
    "collapsed": false
   },
   "source": [
    "###### Evaluation 2 : Recall"
   ]
  },
  {
   "cell_type": "code",
   "execution_count": 13,
   "metadata": {
    "collapsed": false
   },
   "outputs": [],
   "source": [
    "display_graph(recall_baseline,recall_rnn_ubuntu,recall_rnn_superuser,recall_neo4j_pr,recall_neo4j_tf,recall_neo4j_pr_1_11,recall_neo4j_tf_1_11, mode='RECALL')"
   ]
  },
  {
   "cell_type": "code",
   "execution_count": 14,
   "metadata": {
    "collapsed": false
   },
   "outputs": [
    {
     "data": {
      "application/vnd.plotly.v1+json": {
       "data": [
        {
         "colorscale": [
          [
           0,
           "#00083e"
          ],
          [
           0.5,
           "#ededee"
          ],
          [
           1,
           "#ffffff"
          ]
         ],
         "hoverinfo": "none",
         "opacity": 0.75,
         "showscale": false,
         "type": "heatmap",
         "z": [
          [
           0,
           0
          ],
          [
           0.5,
           0.5
          ],
          [
           1,
           1
          ],
          [
           0.5,
           0.5
          ],
          [
           1,
           1
          ],
          [
           0.5,
           0.5
          ],
          [
           1,
           1
          ],
          [
           0.5,
           0.5
          ]
         ]
        }
       ],
       "layout": {
        "annotations": [
         {
          "align": "left",
          "font": {
           "color": "#ffffff"
          },
          "showarrow": false,
          "text": "<b>Model</b>",
          "x": -0.45,
          "xanchor": "left",
          "xref": "x1",
          "y": 0,
          "yref": "y1"
         },
         {
          "align": "left",
          "font": {
           "color": "#ffffff"
          },
          "showarrow": false,
          "text": "<b>Mean</b>",
          "x": 0.55,
          "xanchor": "left",
          "xref": "x1",
          "y": 0,
          "yref": "y1"
         },
         {
          "align": "left",
          "font": {
           "color": "#000000"
          },
          "showarrow": false,
          "text": "Baseline RECALL",
          "x": -0.45,
          "xanchor": "left",
          "xref": "x1",
          "y": 1,
          "yref": "y1"
         },
         {
          "align": "left",
          "font": {
           "color": "#000000"
          },
          "showarrow": false,
          "text": "0.16555555555555532",
          "x": 0.55,
          "xanchor": "left",
          "xref": "x1",
          "y": 1,
          "yref": "y1"
         },
         {
          "align": "left",
          "font": {
           "color": "#000000"
          },
          "showarrow": false,
          "text": "Rnn ubuntu RECALL",
          "x": -0.45,
          "xanchor": "left",
          "xref": "x1",
          "y": 2,
          "yref": "y1"
         },
         {
          "align": "left",
          "font": {
           "color": "#000000"
          },
          "showarrow": false,
          "text": "0.007222222222222224",
          "x": 0.55,
          "xanchor": "left",
          "xref": "x1",
          "y": 2,
          "yref": "y1"
         },
         {
          "align": "left",
          "font": {
           "color": "#000000"
          },
          "showarrow": false,
          "text": "Rnn superuser RECALL",
          "x": -0.45,
          "xanchor": "left",
          "xref": "x1",
          "y": 3,
          "yref": "y1"
         },
         {
          "align": "left",
          "font": {
           "color": "#000000"
          },
          "showarrow": false,
          "text": "0.049999999999999926",
          "x": 0.55,
          "xanchor": "left",
          "xref": "x1",
          "y": 3,
          "yref": "y1"
         },
         {
          "align": "left",
          "font": {
           "color": "#000000"
          },
          "showarrow": false,
          "text": "Neo4j PR OPRECALL",
          "x": -0.45,
          "xanchor": "left",
          "xref": "x1",
          "y": 4,
          "yref": "y1"
         },
         {
          "align": "left",
          "font": {
           "color": "#000000"
          },
          "showarrow": false,
          "text": "0.0883333333333332",
          "x": 0.55,
          "xanchor": "left",
          "xref": "x1",
          "y": 4,
          "yref": "y1"
         },
         {
          "align": "left",
          "font": {
           "color": "#000000"
          },
          "showarrow": false,
          "text": "Neo4j TF_IDF RECALL",
          "x": -0.45,
          "xanchor": "left",
          "xref": "x1",
          "y": 5,
          "yref": "y1"
         },
         {
          "align": "left",
          "font": {
           "color": "#000000"
          },
          "showarrow": false,
          "text": "0.07666666666666656",
          "x": 0.55,
          "xanchor": "left",
          "xref": "x1",
          "y": 5,
          "yref": "y1"
         },
         {
          "align": "left",
          "font": {
           "color": "#000000"
          },
          "showarrow": false,
          "text": "Neo4j PR  RECALL",
          "x": -0.45,
          "xanchor": "left",
          "xref": "x1",
          "y": 6,
          "yref": "y1"
         },
         {
          "align": "left",
          "font": {
           "color": "#000000"
          },
          "showarrow": false,
          "text": "0.07055555555555544",
          "x": 0.55,
          "xanchor": "left",
          "xref": "x1",
          "y": 6,
          "yref": "y1"
         },
         {
          "align": "left",
          "font": {
           "color": "#000000"
          },
          "showarrow": false,
          "text": "Neo4j TF_IDF OP RECALL",
          "x": -0.45,
          "xanchor": "left",
          "xref": "x1",
          "y": 7,
          "yref": "y1"
         },
         {
          "align": "left",
          "font": {
           "color": "#000000"
          },
          "showarrow": false,
          "text": "0.07944444444444428",
          "x": 0.55,
          "xanchor": "left",
          "xref": "x1",
          "y": 7,
          "yref": "y1"
         }
        ],
        "height": 290,
        "margin": {
         "b": 0,
         "l": 0,
         "r": 0,
         "t": 0
        },
        "xaxis": {
         "dtick": 1,
         "gridwidth": 2,
         "showticklabels": false,
         "tick0": -0.5,
         "ticks": "",
         "zeroline": false
        },
        "yaxis": {
         "autorange": "reversed",
         "dtick": 1,
         "gridwidth": 2,
         "showticklabels": false,
         "tick0": 0.5,
         "ticks": "",
         "zeroline": false
        }
       }
      },
      "text/html": [
       "<div id=\"49b8236a-8496-40d3-873a-4698ff9cec41\" style=\"height: 290px; width: 100%;\" class=\"plotly-graph-div\"></div><script type=\"text/javascript\">require([\"plotly\"], function(Plotly) { window.PLOTLYENV=window.PLOTLYENV || {};window.PLOTLYENV.BASE_URL=\"https://plot.ly\";Plotly.newPlot(\"49b8236a-8496-40d3-873a-4698ff9cec41\", [{\"showscale\": false, \"hoverinfo\": \"none\", \"z\": [[0, 0], [0.5, 0.5], [1, 1], [0.5, 0.5], [1, 1], [0.5, 0.5], [1, 1], [0.5, 0.5]], \"colorscale\": [[0, \"#00083e\"], [0.5, \"#ededee\"], [1, \"#ffffff\"]], \"type\": \"heatmap\", \"opacity\": 0.75}], {\"xaxis\": {\"showticklabels\": false, \"tick0\": -0.5, \"dtick\": 1, \"gridwidth\": 2, \"ticks\": \"\", \"zeroline\": false}, \"yaxis\": {\"showticklabels\": false, \"tick0\": 0.5, \"dtick\": 1, \"gridwidth\": 2, \"ticks\": \"\", \"autorange\": \"reversed\", \"zeroline\": false}, \"annotations\": [{\"align\": \"left\", \"showarrow\": false, \"y\": 0, \"text\": \"<b>Model</b>\", \"xanchor\": \"left\", \"yref\": \"y1\", \"x\": -0.45, \"xref\": \"x1\", \"font\": {\"color\": \"#ffffff\"}}, {\"align\": \"left\", \"showarrow\": false, \"y\": 0, \"text\": \"<b>Mean</b>\", \"xanchor\": \"left\", \"yref\": \"y1\", \"x\": 0.55, \"xref\": \"x1\", \"font\": {\"color\": \"#ffffff\"}}, {\"align\": \"left\", \"showarrow\": false, \"y\": 1, \"text\": \"Baseline RECALL\", \"xanchor\": \"left\", \"yref\": \"y1\", \"x\": -0.45, \"xref\": \"x1\", \"font\": {\"color\": \"#000000\"}}, {\"align\": \"left\", \"showarrow\": false, \"y\": 1, \"text\": \"0.16555555555555532\", \"xanchor\": \"left\", \"yref\": \"y1\", \"x\": 0.55, \"xref\": \"x1\", \"font\": {\"color\": \"#000000\"}}, {\"align\": \"left\", \"showarrow\": false, \"y\": 2, \"text\": \"Rnn ubuntu RECALL\", \"xanchor\": \"left\", \"yref\": \"y1\", \"x\": -0.45, \"xref\": \"x1\", \"font\": {\"color\": \"#000000\"}}, {\"align\": \"left\", \"showarrow\": false, \"y\": 2, \"text\": \"0.007222222222222224\", \"xanchor\": \"left\", \"yref\": \"y1\", \"x\": 0.55, \"xref\": \"x1\", \"font\": {\"color\": \"#000000\"}}, {\"align\": \"left\", \"showarrow\": false, \"y\": 3, \"text\": \"Rnn superuser RECALL\", \"xanchor\": \"left\", \"yref\": \"y1\", \"x\": -0.45, \"xref\": \"x1\", \"font\": {\"color\": \"#000000\"}}, {\"align\": \"left\", \"showarrow\": false, \"y\": 3, \"text\": \"0.049999999999999926\", \"xanchor\": \"left\", \"yref\": \"y1\", \"x\": 0.55, \"xref\": \"x1\", \"font\": {\"color\": \"#000000\"}}, {\"align\": \"left\", \"showarrow\": false, \"y\": 4, \"text\": \"Neo4j PR OPRECALL\", \"xanchor\": \"left\", \"yref\": \"y1\", \"x\": -0.45, \"xref\": \"x1\", \"font\": {\"color\": \"#000000\"}}, {\"align\": \"left\", \"showarrow\": false, \"y\": 4, \"text\": \"0.0883333333333332\", \"xanchor\": \"left\", \"yref\": \"y1\", \"x\": 0.55, \"xref\": \"x1\", \"font\": {\"color\": \"#000000\"}}, {\"align\": \"left\", \"showarrow\": false, \"y\": 5, \"text\": \"Neo4j TF_IDF RECALL\", \"xanchor\": \"left\", \"yref\": \"y1\", \"x\": -0.45, \"xref\": \"x1\", \"font\": {\"color\": \"#000000\"}}, {\"align\": \"left\", \"showarrow\": false, \"y\": 5, \"text\": \"0.07666666666666656\", \"xanchor\": \"left\", \"yref\": \"y1\", \"x\": 0.55, \"xref\": \"x1\", \"font\": {\"color\": \"#000000\"}}, {\"align\": \"left\", \"showarrow\": false, \"y\": 6, \"text\": \"Neo4j PR  RECALL\", \"xanchor\": \"left\", \"yref\": \"y1\", \"x\": -0.45, \"xref\": \"x1\", \"font\": {\"color\": \"#000000\"}}, {\"align\": \"left\", \"showarrow\": false, \"y\": 6, \"text\": \"0.07055555555555544\", \"xanchor\": \"left\", \"yref\": \"y1\", \"x\": 0.55, \"xref\": \"x1\", \"font\": {\"color\": \"#000000\"}}, {\"align\": \"left\", \"showarrow\": false, \"y\": 7, \"text\": \"Neo4j TF_IDF OP RECALL\", \"xanchor\": \"left\", \"yref\": \"y1\", \"x\": -0.45, \"xref\": \"x1\", \"font\": {\"color\": \"#000000\"}}, {\"align\": \"left\", \"showarrow\": false, \"y\": 7, \"text\": \"0.07944444444444428\", \"xanchor\": \"left\", \"yref\": \"y1\", \"x\": 0.55, \"xref\": \"x1\", \"font\": {\"color\": \"#000000\"}}], \"margin\": {\"r\": 0, \"t\": 0, \"b\": 0, \"l\": 0}, \"height\": 290}, {\"showLink\": true, \"linkText\": \"Export to plot.ly\"})});</script>"
      ],
      "text/vnd.plotly.v1+html": [
       "<div id=\"49b8236a-8496-40d3-873a-4698ff9cec41\" style=\"height: 290px; width: 100%;\" class=\"plotly-graph-div\"></div><script type=\"text/javascript\">require([\"plotly\"], function(Plotly) { window.PLOTLYENV=window.PLOTLYENV || {};window.PLOTLYENV.BASE_URL=\"https://plot.ly\";Plotly.newPlot(\"49b8236a-8496-40d3-873a-4698ff9cec41\", [{\"showscale\": false, \"hoverinfo\": \"none\", \"z\": [[0, 0], [0.5, 0.5], [1, 1], [0.5, 0.5], [1, 1], [0.5, 0.5], [1, 1], [0.5, 0.5]], \"colorscale\": [[0, \"#00083e\"], [0.5, \"#ededee\"], [1, \"#ffffff\"]], \"type\": \"heatmap\", \"opacity\": 0.75}], {\"xaxis\": {\"showticklabels\": false, \"tick0\": -0.5, \"dtick\": 1, \"gridwidth\": 2, \"ticks\": \"\", \"zeroline\": false}, \"yaxis\": {\"showticklabels\": false, \"tick0\": 0.5, \"dtick\": 1, \"gridwidth\": 2, \"ticks\": \"\", \"autorange\": \"reversed\", \"zeroline\": false}, \"annotations\": [{\"align\": \"left\", \"showarrow\": false, \"y\": 0, \"text\": \"<b>Model</b>\", \"xanchor\": \"left\", \"yref\": \"y1\", \"x\": -0.45, \"xref\": \"x1\", \"font\": {\"color\": \"#ffffff\"}}, {\"align\": \"left\", \"showarrow\": false, \"y\": 0, \"text\": \"<b>Mean</b>\", \"xanchor\": \"left\", \"yref\": \"y1\", \"x\": 0.55, \"xref\": \"x1\", \"font\": {\"color\": \"#ffffff\"}}, {\"align\": \"left\", \"showarrow\": false, \"y\": 1, \"text\": \"Baseline RECALL\", \"xanchor\": \"left\", \"yref\": \"y1\", \"x\": -0.45, \"xref\": \"x1\", \"font\": {\"color\": \"#000000\"}}, {\"align\": \"left\", \"showarrow\": false, \"y\": 1, \"text\": \"0.16555555555555532\", \"xanchor\": \"left\", \"yref\": \"y1\", \"x\": 0.55, \"xref\": \"x1\", \"font\": {\"color\": \"#000000\"}}, {\"align\": \"left\", \"showarrow\": false, \"y\": 2, \"text\": \"Rnn ubuntu RECALL\", \"xanchor\": \"left\", \"yref\": \"y1\", \"x\": -0.45, \"xref\": \"x1\", \"font\": {\"color\": \"#000000\"}}, {\"align\": \"left\", \"showarrow\": false, \"y\": 2, \"text\": \"0.007222222222222224\", \"xanchor\": \"left\", \"yref\": \"y1\", \"x\": 0.55, \"xref\": \"x1\", \"font\": {\"color\": \"#000000\"}}, {\"align\": \"left\", \"showarrow\": false, \"y\": 3, \"text\": \"Rnn superuser RECALL\", \"xanchor\": \"left\", \"yref\": \"y1\", \"x\": -0.45, \"xref\": \"x1\", \"font\": {\"color\": \"#000000\"}}, {\"align\": \"left\", \"showarrow\": false, \"y\": 3, \"text\": \"0.049999999999999926\", \"xanchor\": \"left\", \"yref\": \"y1\", \"x\": 0.55, \"xref\": \"x1\", \"font\": {\"color\": \"#000000\"}}, {\"align\": \"left\", \"showarrow\": false, \"y\": 4, \"text\": \"Neo4j PR OPRECALL\", \"xanchor\": \"left\", \"yref\": \"y1\", \"x\": -0.45, \"xref\": \"x1\", \"font\": {\"color\": \"#000000\"}}, {\"align\": \"left\", \"showarrow\": false, \"y\": 4, \"text\": \"0.0883333333333332\", \"xanchor\": \"left\", \"yref\": \"y1\", \"x\": 0.55, \"xref\": \"x1\", \"font\": {\"color\": \"#000000\"}}, {\"align\": \"left\", \"showarrow\": false, \"y\": 5, \"text\": \"Neo4j TF_IDF RECALL\", \"xanchor\": \"left\", \"yref\": \"y1\", \"x\": -0.45, \"xref\": \"x1\", \"font\": {\"color\": \"#000000\"}}, {\"align\": \"left\", \"showarrow\": false, \"y\": 5, \"text\": \"0.07666666666666656\", \"xanchor\": \"left\", \"yref\": \"y1\", \"x\": 0.55, \"xref\": \"x1\", \"font\": {\"color\": \"#000000\"}}, {\"align\": \"left\", \"showarrow\": false, \"y\": 6, \"text\": \"Neo4j PR  RECALL\", \"xanchor\": \"left\", \"yref\": \"y1\", \"x\": -0.45, \"xref\": \"x1\", \"font\": {\"color\": \"#000000\"}}, {\"align\": \"left\", \"showarrow\": false, \"y\": 6, \"text\": \"0.07055555555555544\", \"xanchor\": \"left\", \"yref\": \"y1\", \"x\": 0.55, \"xref\": \"x1\", \"font\": {\"color\": \"#000000\"}}, {\"align\": \"left\", \"showarrow\": false, \"y\": 7, \"text\": \"Neo4j TF_IDF OP RECALL\", \"xanchor\": \"left\", \"yref\": \"y1\", \"x\": -0.45, \"xref\": \"x1\", \"font\": {\"color\": \"#000000\"}}, {\"align\": \"left\", \"showarrow\": false, \"y\": 7, \"text\": \"0.07944444444444428\", \"xanchor\": \"left\", \"yref\": \"y1\", \"x\": 0.55, \"xref\": \"x1\", \"font\": {\"color\": \"#000000\"}}], \"margin\": {\"r\": 0, \"t\": 0, \"b\": 0, \"l\": 0}, \"height\": 290}, {\"showLink\": true, \"linkText\": \"Export to plot.ly\"})});</script>"
      ]
     },
     "metadata": {},
     "output_type": "display_data"
    }
   ],
   "source": [
    "display_statistic_table(recall_baseline,recall_rnn_ubuntu,recall_rnn_superuser,recall_neo4j_pr,recall_neo4j_tf,recall_neo4j_pr_1_11,recall_neo4j_tf_1_11, mode='RECALL')"
   ]
  },
  {
   "cell_type": "code",
   "execution_count": null,
   "metadata": {
    "collapsed": true
   },
   "outputs": [],
   "source": []
  }
 ],
 "metadata": {
  "anaconda-cloud": {},
  "kernelspec": {
   "display_name": "Python [default]",
   "language": "python",
   "name": "python3"
  },
  "language_info": {
   "codemirror_mode": {
    "name": "ipython",
    "version": 3
   },
   "file_extension": ".py",
   "mimetype": "text/x-python",
   "name": "python",
   "nbconvert_exporter": "python",
   "pygments_lexer": "ipython3",
   "version": "3.5.2"
  }
 },
 "nbformat": 4,
 "nbformat_minor": 0
}
